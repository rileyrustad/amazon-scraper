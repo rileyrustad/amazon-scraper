{
 "cells": [
  {
   "cell_type": "code",
   "execution_count": 1,
   "metadata": {},
   "outputs": [],
   "source": [
    "from selenium import webdriver\n",
    "from selenium.webdriver.common.keys import Keys\n",
    "from selenium.common.exceptions import WebDriverException, NoSuchElementException\n",
    "from bs4 import BeautifulSoup\n",
    "import requests\n",
    "import re\n",
    "from collections import defaultdict\n",
    "import time\n",
    "\n"
   ]
  },
  {
   "cell_type": "code",
   "execution_count": 2,
   "metadata": {
    "collapsed": true
   },
   "outputs": [],
   "source": [
    "from sqlalchemy import create_engine\n",
    "from sqlalchemy.orm import sessionmaker\n",
    " \n",
    "from sql_init import Review, Base, Category\n",
    " \n",
    "engine = create_engine('sqlite:///reviews.db')\n",
    "# Bind the engine to the metadata of the Base class so that the\n",
    "# declaratives can be accessed through a DBSession instance\n",
    "Base.metadata.bind = engine\n",
    " \n",
    "DBSession = sessionmaker(bind=engine)\n",
    "# A DBSession() instance establishes all conversations with the database\n",
    "# and represents a \"staging zone\" for all the objects loaded into the\n",
    "# database session object. Any change made against the objects in the\n",
    "# session won't be persisted into the database until you call\n",
    "# session.commit(). If you're not happy about the changes, you can\n",
    "# revert all of them back to the last commit by calling\n",
    "# session.rollback()\n",
    "session = DBSession()"
   ]
  },
  {
   "cell_type": "code",
   "execution_count": 3,
   "metadata": {
    "collapsed": true
   },
   "outputs": [],
   "source": [
    "def click(element, n=5):\n",
    "    for _ in range(n):\n",
    "        try:\n",
    "            element.click()\n",
    "            break\n",
    "        except WebDriverException:\n",
    "            continue\n",
    "    raise WebDriverException('Couldnt click {} parents up'.format(n))\n",
    "            \n",
    "    "
   ]
  },
  {
   "cell_type": "code",
   "execution_count": 4,
   "metadata": {
    "collapsed": true
   },
   "outputs": [],
   "source": [
    "driver = webdriver.Chrome(executable_path=\"./chromedriver\")\n",
    "driver.implicitly_wait(3)\n",
    "driver.get(\"https://www.amazon.com/s/ref=sr_nr_p_89_0?fst=as%3Aoff&rh=i%3Aaps%2Ck%3Aadidas%2Cp_89%3Aadidas&keywords=adidas&ie=UTF8&qid=1507481929&rnid=2528832011\")"
   ]
  },
  {
   "cell_type": "code",
   "execution_count": 5,
   "metadata": {
    "collapsed": true
   },
   "outputs": [],
   "source": [
    "main_window = driver.current_window_handle"
   ]
  },
  {
   "cell_type": "code",
   "execution_count": 6,
   "metadata": {
    "collapsed": true
   },
   "outputs": [],
   "source": [
    "for i in driver.find_elements_by_class_name(\"a-expander-prompt\"):\n",
    "    i.find_element_by_xpath('..').click()"
   ]
  },
  {
   "cell_type": "code",
   "execution_count": 7,
   "metadata": {
    "collapsed": true
   },
   "outputs": [],
   "source": [
    "e = []\n",
    "for i in driver.find_elements_by_class_name(\"s-ref-text-link\"):\n",
    "    if i.text == \"Get It by Tomorrow\":\n",
    "        break\n",
    "    e.append(i)"
   ]
  },
  {
   "cell_type": "code",
   "execution_count": 10,
   "metadata": {},
   "outputs": [
    {
     "data": {
      "text/plain": [
       "[\"Boys' Fashion\",\n",
       " \"Boys' Sneakers\",\n",
       " \"Boys' Clothing\",\n",
       " \"Boys' Skateboarding Shoes\",\n",
       " \"Boys' Running Shoes\",\n",
       " \"Men's Fashion\",\n",
       " \"Men's Fashion Sneakers\",\n",
       " \"Men's Running Shoes\",\n",
       " \"Men's Clothing\",\n",
       " \"Men's Road Running Shoes\",\n",
       " \"Men's Cross-Training Shoes\",\n",
       " \"Men's Skateboarding Shoes\",\n",
       " \"Men's Athletic Shoes\",\n",
       " \"Men's Activewear\",\n",
       " \"Men's Walking Shoes\",\n",
       " \"Men's Tennis & Racquet Sport Shoes\",\n",
       " \"Women's Fashion\",\n",
       " \"Women's Fashion Sneakers\",\n",
       " \"Women's Running Shoes\",\n",
       " \"Women's Clothing\",\n",
       " \"Women's Activewear\",\n",
       " \"Women's Road Running Shoes\",\n",
       " \"Women's Skateboard Shoes\",\n",
       " \"Women's Cross Training Shoes\",\n",
       " \"Women's Walking Shoes\",\n",
       " \"Women's Basketball Shoes\",\n",
       " \"Women's Tennis & Racquet Sport Shoes\",\n",
       " \"Girls' Fashion\",\n",
       " \"Girls' Sneakers\",\n",
       " \"Girls' Skateboarding Shoes\",\n",
       " 'Sports & Fitness',\n",
       " \"Men's Exercise & Fitness Apparel\",\n",
       " \"Women's Soccer Clothing\",\n",
       " \"Men's Soccer Clothing\",\n",
       " \"Women's Exercise & Fitness Apparel\",\n",
       " 'Sports Fan Shop',\n",
       " 'Sports Fan Clothing',\n",
       " 'Baby Clothing & Shoes',\n",
       " \"Baby Boys' Sneakers\",\n",
       " 'Sports & Outdoors',\n",
       " 'Clothing, Shoes & Jewelry',\n",
       " 'Collectibles & Fine Art',\n",
       " 'Beauty & Personal Care',\n",
       " 'Baby',\n",
       " 'Toys & Games',\n",
       " 'Health, Household & Baby Care',\n",
       " 'Cell Phones & Accessories',\n",
       " 'Industrial & Scientific',\n",
       " 'Electronics',\n",
       " 'Automotive Parts & Accessories',\n",
       " 'Books',\n",
       " 'Home & Kitchen',\n",
       " 'Office Products',\n",
       " 'Tools & Home Improvement',\n",
       " 'Arts, Crafts & Sewing',\n",
       " 'Video Games',\n",
       " 'CDs & Vinyl',\n",
       " 'Garden & Outdoor',\n",
       " 'Pet Supplies',\n",
       " 'Grocery & Gourmet Food',\n",
       " '',\n",
       " 'Free Shipping by Amazon',\n",
       " 'Clear',\n",
       " 'adidas',\n",
       " 'adidas Originals',\n",
       " 'adidas Performance',\n",
       " 'Top Brands',\n",
       " 'XS',\n",
       " 'S',\n",
       " 'M',\n",
       " 'L',\n",
       " 'XL',\n",
       " '2XL',\n",
       " '3XL',\n",
       " '5XL',\n",
       " \"(What's this?)\",\n",
       " 'International Shipping Eligible',\n",
       " '& Up',\n",
       " '& Up',\n",
       " '& Up',\n",
       " '& Up',\n",
       " 'New',\n",
       " 'Used']"
      ]
     },
     "execution_count": 10,
     "metadata": {},
     "output_type": "execute_result"
    }
   ],
   "source": [
    "[x.text for x in e]"
   ]
  },
  {
   "cell_type": "code",
   "execution_count": 24,
   "metadata": {
    "collapsed": true
   },
   "outputs": [],
   "source": [
    "e = e[0]"
   ]
  },
  {
   "cell_type": "code",
   "execution_count": 25,
   "metadata": {
    "collapsed": true
   },
   "outputs": [],
   "source": [
    "def check_category(e):\n",
    "    categories = session.query(Category).filter_by(category_name=e.text).all()\n",
    "    if len(categories) == 0:\n",
    "        new_category = Category(category_name=e.text,completed=False)\n",
    "        session.add(new_category)\n",
    "        session.commit()\n",
    "        return False\n",
    "    elif len(categories) >= 1:\n",
    "        return categories[0].completed\n",
    "\n",
    "    \n",
    "    \n",
    "            "
   ]
  },
  {
   "cell_type": "code",
   "execution_count": 26,
   "metadata": {},
   "outputs": [
    {
     "ename": "NameError",
     "evalue": "name 'categories' is not defined",
     "output_type": "error",
     "traceback": [
      "\u001b[0;31m---------------------------------------------------------------------------\u001b[0m",
      "\u001b[0;31mNameError\u001b[0m                                 Traceback (most recent call last)",
      "\u001b[0;32m<ipython-input-26-0a8d5195759a>\u001b[0m in \u001b[0;36m<module>\u001b[0;34m()\u001b[0m\n\u001b[0;32m----> 1\u001b[0;31m \u001b[0mcategories\u001b[0m\u001b[0;34m\u001b[0m\u001b[0m\n\u001b[0m",
      "\u001b[0;31mNameError\u001b[0m: name 'categories' is not defined"
     ]
    }
   ],
   "source": [
    "categories"
   ]
  },
  {
   "cell_type": "code",
   "execution_count": 27,
   "metadata": {},
   "outputs": [
    {
     "ename": "NameError",
     "evalue": "name 'get_category_reviews' is not defined",
     "output_type": "error",
     "traceback": [
      "\u001b[0;31m---------------------------------------------------------------------------\u001b[0m",
      "\u001b[0;31mNameError\u001b[0m                                 Traceback (most recent call last)",
      "\u001b[0;32m<ipython-input-27-f74747825034>\u001b[0m in \u001b[0;36m<module>\u001b[0;34m()\u001b[0m\n\u001b[0;32m----> 1\u001b[0;31m \u001b[0mget_category_reviews\u001b[0m\u001b[0;34m(\u001b[0m\u001b[0me\u001b[0m\u001b[0;34m[\u001b[0m\u001b[0;36m0\u001b[0m\u001b[0;34m]\u001b[0m\u001b[0;34m)\u001b[0m\u001b[0;34m\u001b[0m\u001b[0m\n\u001b[0m",
      "\u001b[0;31mNameError\u001b[0m: name 'get_category_reviews' is not defined"
     ]
    }
   ],
   "source": [
    "get_category_reviews(e[0])"
   ]
  },
  {
   "cell_type": "code",
   "execution_count": 30,
   "metadata": {
    "collapsed": true
   },
   "outputs": [],
   "source": [
    "e[1].send_keys(Keys.CONTROL + Keys.SHIFT + Keys.RETURN)"
   ]
  },
  {
   "cell_type": "code",
   "execution_count": 11,
   "metadata": {
    "collapsed": true
   },
   "outputs": [],
   "source": [
    "for handle in driver.window_handles:\n",
    "    if handle != main_window:\n",
    "        driver.switch_to_window(handle)\n",
    "        \n",
    "#     print (\"Handle = \",handle)\n",
    "#     driver.switch_to_window(handle);\n",
    "#     elem = driver.find_element_by_tag_name(\"title\")\n",
    "#     print (elem.get_attribute(\"text\"))"
   ]
  },
  {
   "cell_type": "code",
   "execution_count": 46,
   "metadata": {
    "collapsed": true
   },
   "outputs": [],
   "source": [
    "driver.switch_to_window(driver.window_handles[1])"
   ]
  },
  {
   "cell_type": "code",
   "execution_count": 48,
   "metadata": {},
   "outputs": [
    {
     "data": {
      "text/plain": [
       "['CDwindow-579a6ad3-3e31-45c8-87d7-5256ed239123']"
      ]
     },
     "execution_count": 48,
     "metadata": {},
     "output_type": "execute_result"
    }
   ],
   "source": [
    "driver.window_handles"
   ]
  },
  {
   "cell_type": "code",
   "execution_count": 12,
   "metadata": {
    "collapsed": true,
    "scrolled": false
   },
   "outputs": [],
   "source": [
    "links = []\n",
    "elements = []\n",
    "for i in driver.find_elements_by_class_name(\"s-access-title\"):\n",
    "    links.append(i.find_element_by_xpath('..').get_attribute('href'))\n",
    "    elements.append(i)"
   ]
  },
  {
   "cell_type": "code",
   "execution_count": 13,
   "metadata": {
    "collapsed": true
   },
   "outputs": [],
   "source": [
    "elements[0].click()\n",
    "time.sleep(3)"
   ]
  },
  {
   "cell_type": "code",
   "execution_count": 14,
   "metadata": {
    "collapsed": true
   },
   "outputs": [],
   "source": [
    "a_s = driver.find_elements_by_tag_name('a')\n",
    "#TODO Error handling for when there are no reviews\n",
    "for e in a_s:\n",
    "    if re.search('See all [0-9,.]* customer reviews', e.text):\n",
    "        e.click()\n",
    "        break"
   ]
  },
  {
   "cell_type": "code",
   "execution_count": 44,
   "metadata": {
    "collapsed": true
   },
   "outputs": [],
   "source": [
    "e = driver.find_element_by_class_name('a-last')"
   ]
  },
  {
   "cell_type": "code",
   "execution_count": 45,
   "metadata": {},
   "outputs": [
    {
     "ename": "NoSuchElementException",
     "evalue": "Message: no such element: Unable to locate element: {\"method\":\"tag name\",\"selector\":\"a\"}\n  (Session info: chrome=62.0.3202.94)\n  (Driver info: chromedriver=2.33.506106 (8a06c39c4582fbfbab6966dbb1c38a9173bfb1a2),platform=Mac OS X 10.12.6 x86_64)\n",
     "output_type": "error",
     "traceback": [
      "\u001b[0;31m---------------------------------------------------------------------------\u001b[0m",
      "\u001b[0;31mNoSuchElementException\u001b[0m                    Traceback (most recent call last)",
      "\u001b[0;32m<ipython-input-45-d6c84f1c813c>\u001b[0m in \u001b[0;36m<module>\u001b[0;34m()\u001b[0m\n\u001b[0;32m----> 1\u001b[0;31m \u001b[0me\u001b[0m\u001b[0;34m.\u001b[0m\u001b[0mfind_element_by_tag_name\u001b[0m\u001b[0;34m(\u001b[0m\u001b[0;34m'a'\u001b[0m\u001b[0;34m)\u001b[0m\u001b[0;34m.\u001b[0m\u001b[0mget_attribute\u001b[0m\u001b[0;34m(\u001b[0m\u001b[0;34m'href'\u001b[0m\u001b[0;34m)\u001b[0m\u001b[0;34m\u001b[0m\u001b[0m\n\u001b[0m",
      "\u001b[0;32m/Users/mac28/development/amazon-scrapper/env/lib/python3.5/site-packages/selenium/webdriver/remote/webelement.py\u001b[0m in \u001b[0;36mfind_element_by_tag_name\u001b[0;34m(self, name)\u001b[0m\n\u001b[1;32m    230\u001b[0m             \u001b[0;34m-\u001b[0m \u001b[0mname\u001b[0m \u001b[0;34m-\u001b[0m \u001b[0mname\u001b[0m \u001b[0mof\u001b[0m \u001b[0mhtml\u001b[0m \u001b[0mtag\u001b[0m \u001b[0;34m(\u001b[0m\u001b[0meg\u001b[0m\u001b[0;34m:\u001b[0m \u001b[0mh1\u001b[0m\u001b[0;34m,\u001b[0m \u001b[0ma\u001b[0m\u001b[0;34m,\u001b[0m \u001b[0mspan\u001b[0m\u001b[0;34m)\u001b[0m\u001b[0;34m\u001b[0m\u001b[0m\n\u001b[1;32m    231\u001b[0m         \"\"\"\n\u001b[0;32m--> 232\u001b[0;31m         \u001b[0;32mreturn\u001b[0m \u001b[0mself\u001b[0m\u001b[0;34m.\u001b[0m\u001b[0mfind_element\u001b[0m\u001b[0;34m(\u001b[0m\u001b[0mby\u001b[0m\u001b[0;34m=\u001b[0m\u001b[0mBy\u001b[0m\u001b[0;34m.\u001b[0m\u001b[0mTAG_NAME\u001b[0m\u001b[0;34m,\u001b[0m \u001b[0mvalue\u001b[0m\u001b[0;34m=\u001b[0m\u001b[0mname\u001b[0m\u001b[0;34m)\u001b[0m\u001b[0;34m\u001b[0m\u001b[0m\n\u001b[0m\u001b[1;32m    233\u001b[0m \u001b[0;34m\u001b[0m\u001b[0m\n\u001b[1;32m    234\u001b[0m     \u001b[0;32mdef\u001b[0m \u001b[0mfind_elements_by_tag_name\u001b[0m\u001b[0;34m(\u001b[0m\u001b[0mself\u001b[0m\u001b[0;34m,\u001b[0m \u001b[0mname\u001b[0m\u001b[0;34m)\u001b[0m\u001b[0;34m:\u001b[0m\u001b[0;34m\u001b[0m\u001b[0m\n",
      "\u001b[0;32m/Users/mac28/development/amazon-scrapper/env/lib/python3.5/site-packages/selenium/webdriver/remote/webelement.py\u001b[0m in \u001b[0;36mfind_element\u001b[0;34m(self, by, value)\u001b[0m\n\u001b[1;32m    516\u001b[0m \u001b[0;34m\u001b[0m\u001b[0m\n\u001b[1;32m    517\u001b[0m         return self._execute(Command.FIND_CHILD_ELEMENT,\n\u001b[0;32m--> 518\u001b[0;31m                              {\"using\": by, \"value\": value})['value']\n\u001b[0m\u001b[1;32m    519\u001b[0m \u001b[0;34m\u001b[0m\u001b[0m\n\u001b[1;32m    520\u001b[0m     \u001b[0;32mdef\u001b[0m \u001b[0mfind_elements\u001b[0m\u001b[0;34m(\u001b[0m\u001b[0mself\u001b[0m\u001b[0;34m,\u001b[0m \u001b[0mby\u001b[0m\u001b[0;34m=\u001b[0m\u001b[0mBy\u001b[0m\u001b[0;34m.\u001b[0m\u001b[0mID\u001b[0m\u001b[0;34m,\u001b[0m \u001b[0mvalue\u001b[0m\u001b[0;34m=\u001b[0m\u001b[0;32mNone\u001b[0m\u001b[0;34m)\u001b[0m\u001b[0;34m:\u001b[0m\u001b[0;34m\u001b[0m\u001b[0m\n",
      "\u001b[0;32m/Users/mac28/development/amazon-scrapper/env/lib/python3.5/site-packages/selenium/webdriver/remote/webelement.py\u001b[0m in \u001b[0;36m_execute\u001b[0;34m(self, command, params)\u001b[0m\n\u001b[1;32m    499\u001b[0m             \u001b[0mparams\u001b[0m \u001b[0;34m=\u001b[0m \u001b[0;34m{\u001b[0m\u001b[0;34m}\u001b[0m\u001b[0;34m\u001b[0m\u001b[0m\n\u001b[1;32m    500\u001b[0m         \u001b[0mparams\u001b[0m\u001b[0;34m[\u001b[0m\u001b[0;34m'id'\u001b[0m\u001b[0;34m]\u001b[0m \u001b[0;34m=\u001b[0m \u001b[0mself\u001b[0m\u001b[0;34m.\u001b[0m\u001b[0m_id\u001b[0m\u001b[0;34m\u001b[0m\u001b[0m\n\u001b[0;32m--> 501\u001b[0;31m         \u001b[0;32mreturn\u001b[0m \u001b[0mself\u001b[0m\u001b[0;34m.\u001b[0m\u001b[0m_parent\u001b[0m\u001b[0;34m.\u001b[0m\u001b[0mexecute\u001b[0m\u001b[0;34m(\u001b[0m\u001b[0mcommand\u001b[0m\u001b[0;34m,\u001b[0m \u001b[0mparams\u001b[0m\u001b[0;34m)\u001b[0m\u001b[0;34m\u001b[0m\u001b[0m\n\u001b[0m\u001b[1;32m    502\u001b[0m \u001b[0;34m\u001b[0m\u001b[0m\n\u001b[1;32m    503\u001b[0m     \u001b[0;32mdef\u001b[0m \u001b[0mfind_element\u001b[0m\u001b[0;34m(\u001b[0m\u001b[0mself\u001b[0m\u001b[0;34m,\u001b[0m \u001b[0mby\u001b[0m\u001b[0;34m=\u001b[0m\u001b[0mBy\u001b[0m\u001b[0;34m.\u001b[0m\u001b[0mID\u001b[0m\u001b[0;34m,\u001b[0m \u001b[0mvalue\u001b[0m\u001b[0;34m=\u001b[0m\u001b[0;32mNone\u001b[0m\u001b[0;34m)\u001b[0m\u001b[0;34m:\u001b[0m\u001b[0;34m\u001b[0m\u001b[0m\n",
      "\u001b[0;32m/Users/mac28/development/amazon-scrapper/env/lib/python3.5/site-packages/selenium/webdriver/remote/webdriver.py\u001b[0m in \u001b[0;36mexecute\u001b[0;34m(self, driver_command, params)\u001b[0m\n\u001b[1;32m    306\u001b[0m         \u001b[0mresponse\u001b[0m \u001b[0;34m=\u001b[0m \u001b[0mself\u001b[0m\u001b[0;34m.\u001b[0m\u001b[0mcommand_executor\u001b[0m\u001b[0;34m.\u001b[0m\u001b[0mexecute\u001b[0m\u001b[0;34m(\u001b[0m\u001b[0mdriver_command\u001b[0m\u001b[0;34m,\u001b[0m \u001b[0mparams\u001b[0m\u001b[0;34m)\u001b[0m\u001b[0;34m\u001b[0m\u001b[0m\n\u001b[1;32m    307\u001b[0m         \u001b[0;32mif\u001b[0m \u001b[0mresponse\u001b[0m\u001b[0;34m:\u001b[0m\u001b[0;34m\u001b[0m\u001b[0m\n\u001b[0;32m--> 308\u001b[0;31m             \u001b[0mself\u001b[0m\u001b[0;34m.\u001b[0m\u001b[0merror_handler\u001b[0m\u001b[0;34m.\u001b[0m\u001b[0mcheck_response\u001b[0m\u001b[0;34m(\u001b[0m\u001b[0mresponse\u001b[0m\u001b[0;34m)\u001b[0m\u001b[0;34m\u001b[0m\u001b[0m\n\u001b[0m\u001b[1;32m    309\u001b[0m             response['value'] = self._unwrap_value(\n\u001b[1;32m    310\u001b[0m                 response.get('value', None))\n",
      "\u001b[0;32m/Users/mac28/development/amazon-scrapper/env/lib/python3.5/site-packages/selenium/webdriver/remote/errorhandler.py\u001b[0m in \u001b[0;36mcheck_response\u001b[0;34m(self, response)\u001b[0m\n\u001b[1;32m    192\u001b[0m         \u001b[0;32melif\u001b[0m \u001b[0mexception_class\u001b[0m \u001b[0;34m==\u001b[0m \u001b[0mUnexpectedAlertPresentException\u001b[0m \u001b[0;32mand\u001b[0m \u001b[0;34m'alert'\u001b[0m \u001b[0;32min\u001b[0m \u001b[0mvalue\u001b[0m\u001b[0;34m:\u001b[0m\u001b[0;34m\u001b[0m\u001b[0m\n\u001b[1;32m    193\u001b[0m             \u001b[0;32mraise\u001b[0m \u001b[0mexception_class\u001b[0m\u001b[0;34m(\u001b[0m\u001b[0mmessage\u001b[0m\u001b[0;34m,\u001b[0m \u001b[0mscreen\u001b[0m\u001b[0;34m,\u001b[0m \u001b[0mstacktrace\u001b[0m\u001b[0;34m,\u001b[0m \u001b[0mvalue\u001b[0m\u001b[0;34m[\u001b[0m\u001b[0;34m'alert'\u001b[0m\u001b[0;34m]\u001b[0m\u001b[0;34m.\u001b[0m\u001b[0mget\u001b[0m\u001b[0;34m(\u001b[0m\u001b[0;34m'text'\u001b[0m\u001b[0;34m)\u001b[0m\u001b[0;34m)\u001b[0m\u001b[0;34m\u001b[0m\u001b[0m\n\u001b[0;32m--> 194\u001b[0;31m         \u001b[0;32mraise\u001b[0m \u001b[0mexception_class\u001b[0m\u001b[0;34m(\u001b[0m\u001b[0mmessage\u001b[0m\u001b[0;34m,\u001b[0m \u001b[0mscreen\u001b[0m\u001b[0;34m,\u001b[0m \u001b[0mstacktrace\u001b[0m\u001b[0;34m)\u001b[0m\u001b[0;34m\u001b[0m\u001b[0m\n\u001b[0m\u001b[1;32m    195\u001b[0m \u001b[0;34m\u001b[0m\u001b[0m\n\u001b[1;32m    196\u001b[0m     \u001b[0;32mdef\u001b[0m \u001b[0m_value_or_default\u001b[0m\u001b[0;34m(\u001b[0m\u001b[0mself\u001b[0m\u001b[0;34m,\u001b[0m \u001b[0mobj\u001b[0m\u001b[0;34m,\u001b[0m \u001b[0mkey\u001b[0m\u001b[0;34m,\u001b[0m \u001b[0mdefault\u001b[0m\u001b[0;34m)\u001b[0m\u001b[0;34m:\u001b[0m\u001b[0;34m\u001b[0m\u001b[0m\n",
      "\u001b[0;31mNoSuchElementException\u001b[0m: Message: no such element: Unable to locate element: {\"method\":\"tag name\",\"selector\":\"a\"}\n  (Session info: chrome=62.0.3202.94)\n  (Driver info: chromedriver=2.33.506106 (8a06c39c4582fbfbab6966dbb1c38a9173bfb1a2),platform=Mac OS X 10.12.6 x86_64)\n"
     ]
    }
   ],
   "source": [
    "try:\n",
    "    e.find_element_by_tag_name('a').get_attribute('href')\n",
    "except NoSuchElementException:\n",
    "    "
   ]
  },
  {
   "cell_type": "code",
   "execution_count": 40,
   "metadata": {},
   "outputs": [
    {
     "data": {
      "text/plain": [
       "'Next→'"
      ]
     },
     "execution_count": 40,
     "metadata": {},
     "output_type": "execute_result"
    }
   ],
   "source": [
    "e"
   ]
  },
  {
   "cell_type": "code",
   "execution_count": null,
   "metadata": {
    "collapsed": true
   },
   "outputs": [],
   "source": [
    "def check_if_last():\n",
    "    "
   ]
  },
  {
   "cell_type": "code",
   "execution_count": null,
   "metadata": {
    "collapsed": true
   },
   "outputs": [],
   "source": [
    "try:\n",
    "    e = e.find_element_by_tag_name('a')\n",
    "except NoSuchElementException:\n",
    "    driver.close()\n",
    "    "
   ]
  },
  {
   "cell_type": "code",
   "execution_count": null,
   "metadata": {
    "collapsed": true
   },
   "outputs": [],
   "source": [
    "driver.switch_to_window(main_window)"
   ]
  },
  {
   "cell_type": "code",
   "execution_count": null,
   "metadata": {
    "collapsed": true
   },
   "outputs": [],
   "source": [
    "e.text"
   ]
  },
  {
   "cell_type": "code",
   "execution_count": null,
   "metadata": {
    "collapsed": true
   },
   "outputs": [],
   "source": [
    "e.click()"
   ]
  },
  {
   "cell_type": "code",
   "execution_count": null,
   "metadata": {
    "collapsed": true
   },
   "outputs": [],
   "source": [
    "reviews = defaultdict(dict)\n",
    "# for e in driver.find_elements_by_xpath('*//i[@data-hook=\"review-star-rating\"]'):\n",
    "def scrape_review(e):\n",
    "    star_rating = e.find_element_by_class_name('a-icon-alt').get_attribute('innerHTML')[0]\n",
    "    e = e.find_element_by_xpath('../../../..')\n",
    "#     review_id = e.get_attribute('id')\n",
    "#     reviews[review_id]['star_rating'] = star_rating\n",
    "#     reviews[review_id]['review_title'] = e.find_element_by_class_name('review-title').text\n",
    "#     reviews[review_id]['review_date'] = e.find_element_by_class_name('review-date').text[3:]\n",
    "#     reviews[review_id]['text'] = e.find_element_by_class_name('review-text').text\n",
    "    \n",
    "    new_review = Review(review_id = e.get_attribute('id'),\n",
    "    star_rating = int(star_rating),\n",
    "    review_title = e.find_element_by_class_name('review-title').text,\n",
    "    review_date = e.find_element_by_class_name('review-date').text[3:],\n",
    "    text = e.find_element_by_class_name('review-text').text)\n",
    "    session.add(new_review)\n",
    "    session.commit()\n",
    "    \n",
    "    \n",
    "    \n",
    "    \n",
    "    \n",
    "    \n",
    "    \n",
    "    "
   ]
  },
  {
   "cell_type": "code",
   "execution_count": 15,
   "metadata": {
    "collapsed": true
   },
   "outputs": [],
   "source": [
    "def scrape_review(e, session):\n",
    "    star_rating = e.find_element_by_class_name('a-icon-alt').get_attribute('innerHTML')[0]\n",
    "    e = e.find_element_by_xpath('../../../..')\n",
    "    new_review = Review(review_id = e.get_attribute('id'),\n",
    "    star_rating = int(star_rating),\n",
    "    review_title = e.find_element_by_class_name('review-title').text,\n",
    "    review_date = e.find_element_by_class_name('review-date').text[3:],\n",
    "    text = e.find_element_by_class_name('review-text').text)\n",
    "    session.add(new_review)\n",
    "    session.commit()"
   ]
  },
  {
   "cell_type": "code",
   "execution_count": null,
   "metadata": {
    "collapsed": true
   },
   "outputs": [],
   "source": [
    "old_category = Category(category_name='old category',completed=False)\n",
    "session.add(old_category)\n",
    "session.commit()"
   ]
  },
  {
   "cell_type": "code",
   "execution_count": null,
   "metadata": {
    "collapsed": true
   },
   "outputs": [],
   "source": [
    "session.query(Category).all()[0].completed"
   ]
  },
  {
   "cell_type": "code",
   "execution_count": null,
   "metadata": {
    "collapsed": true
   },
   "outputs": [],
   "source": [
    "for e in driver.find_elements_by_xpath('*//i[@data-hook=\"review-star-rating\"]'):\n",
    "    e.parent.click()\n",
    "    break"
   ]
  },
  {
   "cell_type": "code",
   "execution_count": 91,
   "metadata": {
    "collapsed": true
   },
   "outputs": [],
   "source": [
    "session.rollback()"
   ]
  },
  {
   "cell_type": "code",
   "execution_count": 92,
   "metadata": {
    "collapsed": true
   },
   "outputs": [],
   "source": [
    "s = session.query(Review).all()"
   ]
  },
  {
   "cell_type": "code",
   "execution_count": 95,
   "metadata": {},
   "outputs": [
    {
     "data": {
      "text/plain": [
       "[5, 5, 5, 5, 5, 5, 5, 4, 1, 5, 5, 5, 5, 4, 5, 5, 5, 5, 5, 5]"
      ]
     },
     "execution_count": 95,
     "metadata": {},
     "output_type": "execute_result"
    }
   ],
   "source": [
    "[x.star_rating for x in s]"
   ]
  },
  {
   "cell_type": "code",
   "execution_count": null,
   "metadata": {
    "collapsed": true
   },
   "outputs": [],
   "source": [
    "[print(i.category_name) for i in s]"
   ]
  },
  {
   "cell_type": "code",
   "execution_count": null,
   "metadata": {
    "collapsed": true
   },
   "outputs": [],
   "source": []
  },
  {
   "cell_type": "code",
   "execution_count": null,
   "metadata": {
    "collapsed": true
   },
   "outputs": [],
   "source": []
  },
  {
   "cell_type": "code",
   "execution_count": 77,
   "metadata": {
    "collapsed": true
   },
   "outputs": [],
   "source": [
    "driver = webdriver.Chrome(executable_path=\"./chromedriver\")\n",
    "driver.implicitly_wait(3)\n",
    "url = 'https://www.amazon.com/s/gp/search/ref=sr_nr_p_89_0?fst=as%3Aoff&rh=i%3Aaps%2Ck%3Aadidas%2Cp_89%3Aadidas&keywords=adidas&ie=UTF8&qid=1511382355&rnid=2528832011'\n",
    "driver.get(url)\n",
    "main_window = driver.current_window_handle\n"
   ]
  },
  {
   "cell_type": "code",
   "execution_count": 78,
   "metadata": {
    "collapsed": true
   },
   "outputs": [],
   "source": [
    "for i in driver.find_elements_by_class_name(\"a-expander-prompt\"):\n",
    "    i.find_element_by_xpath('..').click()\n"
   ]
  },
  {
   "cell_type": "code",
   "execution_count": 79,
   "metadata": {
    "collapsed": true
   },
   "outputs": [],
   "source": [
    "# Iterate through the categories\n",
    "category = driver.find_elements_by_class_name(\"s-ref-text-link\")[0]"
   ]
  },
  {
   "cell_type": "code",
   "execution_count": 80,
   "metadata": {
    "collapsed": true
   },
   "outputs": [],
   "source": [
    "driver.switch_to_window(driver.window_handles[0])"
   ]
  },
  {
   "cell_type": "code",
   "execution_count": 81,
   "metadata": {},
   "outputs": [
    {
     "ename": "InvalidRequestError",
     "evalue": "This Session's transaction has been rolled back due to a previous exception during flush. To begin a new transaction with this Session, first issue Session.rollback(). Original exception was: (sqlite3.IntegrityError) UNIQUE constraint failed: reviews.review_id [SQL: 'INSERT INTO reviews (review_id, star_rating, review_title, review_date, text) VALUES (?, ?, ?, ?, ?)'] [parameters: ('RL17959WYMDQO', 5, 'for sizing', 'July 23, 2015', \"I wear a size 8 in women's so I ordered a size 6 instead of 7 (the normal women's to kids conversion) bc I know these run large and they fit perfectly! Just order two sizes smaller than the women's size you would regularly get and they'll be perfect!\")]",
     "output_type": "error",
     "traceback": [
      "\u001b[0;31m---------------------------------------------------------------------------\u001b[0m",
      "\u001b[0;31mInvalidRequestError\u001b[0m                       Traceback (most recent call last)",
      "\u001b[0;32m<ipython-input-81-3a4a7d02f853>\u001b[0m in \u001b[0;36m<module>\u001b[0;34m()\u001b[0m\n\u001b[0;32m----> 1\u001b[0;31m \u001b[0;32mif\u001b[0m \u001b[0;32mnot\u001b[0m \u001b[0mcheck_category\u001b[0m\u001b[0;34m(\u001b[0m\u001b[0mcategory\u001b[0m\u001b[0;34m,\u001b[0m \u001b[0msession\u001b[0m\u001b[0;34m)\u001b[0m\u001b[0;34m:\u001b[0m\u001b[0;34m\u001b[0m\u001b[0m\n\u001b[0m\u001b[1;32m      2\u001b[0m     \u001b[0;31m# Open new window for category\u001b[0m\u001b[0;34m\u001b[0m\u001b[0;34m\u001b[0m\u001b[0m\n\u001b[1;32m      3\u001b[0m     \u001b[0mcategory\u001b[0m\u001b[0;34m.\u001b[0m\u001b[0msend_keys\u001b[0m\u001b[0;34m(\u001b[0m\u001b[0mKeys\u001b[0m\u001b[0;34m.\u001b[0m\u001b[0mCONTROL\u001b[0m \u001b[0;34m+\u001b[0m \u001b[0mKeys\u001b[0m\u001b[0;34m.\u001b[0m\u001b[0mSHIFT\u001b[0m \u001b[0;34m+\u001b[0m \u001b[0mKeys\u001b[0m\u001b[0;34m.\u001b[0m\u001b[0mRETURN\u001b[0m\u001b[0;34m)\u001b[0m\u001b[0;34m\u001b[0m\u001b[0m\n\u001b[1;32m      4\u001b[0m     \u001b[0;31m# Switch to new window\u001b[0m\u001b[0;34m\u001b[0m\u001b[0;34m\u001b[0m\u001b[0m\n\u001b[1;32m      5\u001b[0m \u001b[0;34m\u001b[0m\u001b[0m\n",
      "\u001b[0;32m<ipython-input-73-cde22175d125>\u001b[0m in \u001b[0;36mcheck_category\u001b[0;34m(e, session)\u001b[0m\n\u001b[1;32m      1\u001b[0m \u001b[0;32mdef\u001b[0m \u001b[0mcheck_category\u001b[0m\u001b[0;34m(\u001b[0m\u001b[0me\u001b[0m\u001b[0;34m,\u001b[0m \u001b[0msession\u001b[0m\u001b[0;34m)\u001b[0m\u001b[0;34m:\u001b[0m\u001b[0;34m\u001b[0m\u001b[0m\n\u001b[0;32m----> 2\u001b[0;31m     \u001b[0mcategories\u001b[0m \u001b[0;34m=\u001b[0m \u001b[0msession\u001b[0m\u001b[0;34m.\u001b[0m\u001b[0mquery\u001b[0m\u001b[0;34m(\u001b[0m\u001b[0mCategory\u001b[0m\u001b[0;34m)\u001b[0m\u001b[0;34m.\u001b[0m\u001b[0mfilter_by\u001b[0m\u001b[0;34m(\u001b[0m\u001b[0mcategory_name\u001b[0m\u001b[0;34m=\u001b[0m\u001b[0me\u001b[0m\u001b[0;34m.\u001b[0m\u001b[0mtext\u001b[0m\u001b[0;34m)\u001b[0m\u001b[0;34m.\u001b[0m\u001b[0mall\u001b[0m\u001b[0;34m(\u001b[0m\u001b[0;34m)\u001b[0m\u001b[0;34m\u001b[0m\u001b[0m\n\u001b[0m\u001b[1;32m      3\u001b[0m     \u001b[0;32mif\u001b[0m \u001b[0mlen\u001b[0m\u001b[0;34m(\u001b[0m\u001b[0mcategories\u001b[0m\u001b[0;34m)\u001b[0m \u001b[0;34m==\u001b[0m \u001b[0;36m0\u001b[0m\u001b[0;34m:\u001b[0m\u001b[0;34m\u001b[0m\u001b[0m\n\u001b[1;32m      4\u001b[0m         \u001b[0mnew_category\u001b[0m \u001b[0;34m=\u001b[0m \u001b[0mCategory\u001b[0m\u001b[0;34m(\u001b[0m\u001b[0mcategory_name\u001b[0m\u001b[0;34m=\u001b[0m\u001b[0me\u001b[0m\u001b[0;34m.\u001b[0m\u001b[0mtext\u001b[0m\u001b[0;34m,\u001b[0m\u001b[0mcompleted\u001b[0m\u001b[0;34m=\u001b[0m\u001b[0;32mFalse\u001b[0m\u001b[0;34m)\u001b[0m\u001b[0;34m\u001b[0m\u001b[0m\n\u001b[1;32m      5\u001b[0m         \u001b[0msession\u001b[0m\u001b[0;34m.\u001b[0m\u001b[0madd\u001b[0m\u001b[0;34m(\u001b[0m\u001b[0mnew_category\u001b[0m\u001b[0;34m)\u001b[0m\u001b[0;34m\u001b[0m\u001b[0m\n",
      "\u001b[0;32m/Users/mac28/development/amazon-scrapper/env/lib/python3.5/site-packages/sqlalchemy/orm/query.py\u001b[0m in \u001b[0;36mall\u001b[0;34m(self)\u001b[0m\n",
      "\u001b[0;32m/Users/mac28/development/amazon-scrapper/env/lib/python3.5/site-packages/sqlalchemy/orm/query.py\u001b[0m in \u001b[0;36m__iter__\u001b[0;34m(self)\u001b[0m\n",
      "\u001b[0;32m/Users/mac28/development/amazon-scrapper/env/lib/python3.5/site-packages/sqlalchemy/orm/query.py\u001b[0m in \u001b[0;36m_execute_and_instances\u001b[0;34m(self, querycontext)\u001b[0m\n",
      "\u001b[0;32m/Users/mac28/development/amazon-scrapper/env/lib/python3.5/site-packages/sqlalchemy/orm/query.py\u001b[0m in \u001b[0;36m_get_bind_args\u001b[0;34m(self, querycontext, fn, **kw)\u001b[0m\n",
      "\u001b[0;32m/Users/mac28/development/amazon-scrapper/env/lib/python3.5/site-packages/sqlalchemy/orm/query.py\u001b[0m in \u001b[0;36m_connection_from_session\u001b[0;34m(self, **kw)\u001b[0m\n",
      "\u001b[0;32m/Users/mac28/development/amazon-scrapper/env/lib/python3.5/site-packages/sqlalchemy/orm/session.py\u001b[0m in \u001b[0;36mconnection\u001b[0;34m(self, mapper, clause, bind, close_with_result, execution_options, **kw)\u001b[0m\n",
      "\u001b[0;32m/Users/mac28/development/amazon-scrapper/env/lib/python3.5/site-packages/sqlalchemy/orm/session.py\u001b[0m in \u001b[0;36m_connection_for_bind\u001b[0;34m(self, engine, execution_options, **kw)\u001b[0m\n",
      "\u001b[0;32m/Users/mac28/development/amazon-scrapper/env/lib/python3.5/site-packages/sqlalchemy/orm/session.py\u001b[0m in \u001b[0;36m_connection_for_bind\u001b[0;34m(self, bind, execution_options)\u001b[0m\n",
      "\u001b[0;32m/Users/mac28/development/amazon-scrapper/env/lib/python3.5/site-packages/sqlalchemy/orm/session.py\u001b[0m in \u001b[0;36m_assert_active\u001b[0;34m(self, prepared_ok, rollback_ok, deactive_ok, closed_msg)\u001b[0m\n",
      "\u001b[0;31mInvalidRequestError\u001b[0m: This Session's transaction has been rolled back due to a previous exception during flush. To begin a new transaction with this Session, first issue Session.rollback(). Original exception was: (sqlite3.IntegrityError) UNIQUE constraint failed: reviews.review_id [SQL: 'INSERT INTO reviews (review_id, star_rating, review_title, review_date, text) VALUES (?, ?, ?, ?, ?)'] [parameters: ('RL17959WYMDQO', 5, 'for sizing', 'July 23, 2015', \"I wear a size 8 in women's so I ordered a size 6 instead of 7 (the normal women's to kids conversion) bc I know these run large and they fit perfectly! Just order two sizes smaller than the women's size you would regularly get and they'll be perfect!\")]"
     ]
    }
   ],
   "source": [
    "if not check_category(category, session):\n",
    "    # Open new window for category\n",
    "    category.send_keys(Keys.CONTROL + Keys.SHIFT + Keys.RETURN)\n",
    "    # Switch to new window \n",
    "    "
   ]
  },
  {
   "cell_type": "code",
   "execution_count": null,
   "metadata": {
    "collapsed": true
   },
   "outputs": [],
   "source": [
    "driver.switch_to_window(driver.window_handles[1])\n",
    "product = driver.find_elements_by_class_name(\"s-access-title\")[0]\n",
    "product.click()\n"
   ]
  },
  {
   "cell_type": "code",
   "execution_count": null,
   "metadata": {
    "collapsed": true
   },
   "outputs": [],
   "source": [
    "# driver.switch_to_window(driver.window_handles[2])\n",
    "a_s = driver.find_elements_by_tag_name('a')\n",
    "for e in a_s:\n",
    "    if re.search('See all [0-9,.]* customer reviews', e.text):\n",
    "        e.send_keys(Keys.CONTROL + Keys.SHIFT + Keys.RETURN)\n",
    "        driver.switch_to_window(driver.window_handles[2])\n",
    "        break\n"
   ]
  },
  {
   "cell_type": "code",
   "execution_count": 87,
   "metadata": {
    "collapsed": true
   },
   "outputs": [],
   "source": [
    "def check_category(e, session):\n",
    "    categories = session.query(Category).filter_by(category_name=e.text).all()\n",
    "    if len(categories) == 0:\n",
    "        new_category = Category(category_name=e.text,completed=False)\n",
    "        session.add(new_category)\n",
    "        session.commit()\n",
    "        return False\n",
    "    elif len(categories) >= 1:\n",
    "        return categories[0].completed\n",
    "\n",
    "def scrape_review(e, session):\n",
    "\n",
    "\n",
    "    star_rating = e.find_element_by_class_name('a-icon-alt').get_attribute('innerHTML')[0]\n",
    "    e = e.find_element_by_xpath('../../../..')\n",
    "    if session.query(Review).filter_by(review_id=e.id).all():\n",
    "        pass    \n",
    "    new_review = Review(review_id = e.get_attribute('id'),\n",
    "    star_rating = int(star_rating),\n",
    "    review_title = e.find_element_by_class_name('review-title').text,\n",
    "    review_date = e.find_element_by_class_name('review-date').text[3:],\n",
    "    text = e.find_element_by_class_name('review-text').text)\n",
    "    session.add(new_review)\n",
    "    session.commit()\n",
    "    return"
   ]
  },
  {
   "cell_type": "code",
   "execution_count": 88,
   "metadata": {
    "collapsed": true
   },
   "outputs": [],
   "source": [
    "session.rollback()"
   ]
  },
  {
   "cell_type": "code",
   "execution_count": 86,
   "metadata": {},
   "outputs": [
    {
     "data": {
      "text/plain": [
       "<selenium.webdriver.remote.webelement.WebElement (session=\"dff6ce2e207b35ab1df1a77f3ea010bb\", element=\"0.3214756417273712-1\")>"
      ]
     },
     "execution_count": 86,
     "metadata": {},
     "output_type": "execute_result"
    }
   ],
   "source": [
    "review."
   ]
  },
  {
   "cell_type": "code",
   "execution_count": 69,
   "metadata": {},
   "outputs": [
    {
     "name": "stdout",
     "output_type": "stream",
     "text": [
      "blah\n"
     ]
    }
   ],
   "source": [
    "if len(session.query(Review).filter_by(review_id='RL17959WYMDQO').all()) > 0:\n",
    "    print ('blah')"
   ]
  },
  {
   "cell_type": "code",
   "execution_count": 89,
   "metadata": {},
   "outputs": [
    {
     "ename": "IntegrityError",
     "evalue": "(sqlite3.IntegrityError) UNIQUE constraint failed: reviews.review_id [SQL: 'INSERT INTO reviews (review_id, star_rating, review_title, review_date, text) VALUES (?, ?, ?, ?, ?)'] [parameters: ('R2YARFSOTSPD1W', 5, 'reading other reviews helped me pick the right size!1', 'July 22, 2015', \"Just got these shoes in the mail and was a bit nervous to see if I had ordered the right size given that most of the reviews stated that the shoe run ... (222 characters truncated) ... iewers' advice and drop down a size and I'm glad that I did. I hope this helps you choose the right size!\\nThey are super cute and I love the colors!\")]",
     "output_type": "error",
     "traceback": [
      "\u001b[0;31m---------------------------------------------------------------------------\u001b[0m",
      "\u001b[0;31mIntegrityError\u001b[0m                            Traceback (most recent call last)",
      "\u001b[0;32m/Users/mac28/development/amazon-scrapper/env/lib/python3.5/site-packages/sqlalchemy/engine/base.py\u001b[0m in \u001b[0;36m_execute_context\u001b[0;34m(self, dialect, constructor, statement, parameters, *args)\u001b[0m\n",
      "\u001b[0;32m/Users/mac28/development/amazon-scrapper/env/lib/python3.5/site-packages/sqlalchemy/engine/default.py\u001b[0m in \u001b[0;36mdo_execute\u001b[0;34m(self, cursor, statement, parameters, context)\u001b[0m\n",
      "\u001b[0;31mIntegrityError\u001b[0m: UNIQUE constraint failed: reviews.review_id",
      "\nThe above exception was the direct cause of the following exception:\n",
      "\u001b[0;31mIntegrityError\u001b[0m                            Traceback (most recent call last)",
      "\u001b[0;32m<ipython-input-89-09f5020d96cb>\u001b[0m in \u001b[0;36m<module>\u001b[0;34m()\u001b[0m\n\u001b[1;32m      1\u001b[0m \u001b[0mreview\u001b[0m\u001b[0;34m=\u001b[0m\u001b[0mdriver\u001b[0m\u001b[0;34m.\u001b[0m\u001b[0mfind_elements_by_xpath\u001b[0m\u001b[0;34m(\u001b[0m\u001b[0;34m'*//i[@data-hook=\"review-star-rating\"]'\u001b[0m\u001b[0;34m)\u001b[0m\u001b[0;34m[\u001b[0m\u001b[0;36m0\u001b[0m\u001b[0;34m]\u001b[0m\u001b[0;34m\u001b[0m\u001b[0m\n\u001b[0;32m----> 2\u001b[0;31m \u001b[0mscrape_review\u001b[0m\u001b[0;34m(\u001b[0m\u001b[0mreview\u001b[0m\u001b[0;34m,\u001b[0m \u001b[0msession\u001b[0m\u001b[0;34m)\u001b[0m\u001b[0;34m\u001b[0m\u001b[0m\n\u001b[0m",
      "\u001b[0;32m<ipython-input-87-4bbd8e783688>\u001b[0m in \u001b[0;36mscrape_review\u001b[0;34m(e, session)\u001b[0m\n\u001b[1;32m     22\u001b[0m     text = e.find_element_by_class_name('review-text').text)\n\u001b[1;32m     23\u001b[0m     \u001b[0msession\u001b[0m\u001b[0;34m.\u001b[0m\u001b[0madd\u001b[0m\u001b[0;34m(\u001b[0m\u001b[0mnew_review\u001b[0m\u001b[0;34m)\u001b[0m\u001b[0;34m\u001b[0m\u001b[0m\n\u001b[0;32m---> 24\u001b[0;31m     \u001b[0msession\u001b[0m\u001b[0;34m.\u001b[0m\u001b[0mcommit\u001b[0m\u001b[0;34m(\u001b[0m\u001b[0;34m)\u001b[0m\u001b[0;34m\u001b[0m\u001b[0m\n\u001b[0m\u001b[1;32m     25\u001b[0m     \u001b[0;32mreturn\u001b[0m\u001b[0;34m\u001b[0m\u001b[0m\n",
      "\u001b[0;32m/Users/mac28/development/amazon-scrapper/env/lib/python3.5/site-packages/sqlalchemy/orm/session.py\u001b[0m in \u001b[0;36mcommit\u001b[0;34m(self)\u001b[0m\n",
      "\u001b[0;32m/Users/mac28/development/amazon-scrapper/env/lib/python3.5/site-packages/sqlalchemy/orm/session.py\u001b[0m in \u001b[0;36mcommit\u001b[0;34m(self)\u001b[0m\n",
      "\u001b[0;32m/Users/mac28/development/amazon-scrapper/env/lib/python3.5/site-packages/sqlalchemy/orm/session.py\u001b[0m in \u001b[0;36m_prepare_impl\u001b[0;34m(self)\u001b[0m\n",
      "\u001b[0;32m/Users/mac28/development/amazon-scrapper/env/lib/python3.5/site-packages/sqlalchemy/orm/session.py\u001b[0m in \u001b[0;36mflush\u001b[0;34m(self, objects)\u001b[0m\n",
      "\u001b[0;32m/Users/mac28/development/amazon-scrapper/env/lib/python3.5/site-packages/sqlalchemy/orm/session.py\u001b[0m in \u001b[0;36m_flush\u001b[0;34m(self, objects)\u001b[0m\n",
      "\u001b[0;32m/Users/mac28/development/amazon-scrapper/env/lib/python3.5/site-packages/sqlalchemy/util/langhelpers.py\u001b[0m in \u001b[0;36m__exit__\u001b[0;34m(self, type_, value, traceback)\u001b[0m\n",
      "\u001b[0;32m/Users/mac28/development/amazon-scrapper/env/lib/python3.5/site-packages/sqlalchemy/util/compat.py\u001b[0m in \u001b[0;36mreraise\u001b[0;34m(tp, value, tb, cause)\u001b[0m\n",
      "\u001b[0;32m/Users/mac28/development/amazon-scrapper/env/lib/python3.5/site-packages/sqlalchemy/orm/session.py\u001b[0m in \u001b[0;36m_flush\u001b[0;34m(self, objects)\u001b[0m\n",
      "\u001b[0;32m/Users/mac28/development/amazon-scrapper/env/lib/python3.5/site-packages/sqlalchemy/orm/unitofwork.py\u001b[0m in \u001b[0;36mexecute\u001b[0;34m(self)\u001b[0m\n",
      "\u001b[0;32m/Users/mac28/development/amazon-scrapper/env/lib/python3.5/site-packages/sqlalchemy/orm/unitofwork.py\u001b[0m in \u001b[0;36mexecute\u001b[0;34m(self, uow)\u001b[0m\n",
      "\u001b[0;32m/Users/mac28/development/amazon-scrapper/env/lib/python3.5/site-packages/sqlalchemy/orm/persistence.py\u001b[0m in \u001b[0;36msave_obj\u001b[0;34m(base_mapper, states, uowtransaction, single)\u001b[0m\n",
      "\u001b[0;32m/Users/mac28/development/amazon-scrapper/env/lib/python3.5/site-packages/sqlalchemy/orm/persistence.py\u001b[0m in \u001b[0;36m_emit_insert_statements\u001b[0;34m(base_mapper, uowtransaction, cached_connections, mapper, table, insert, bookkeeping)\u001b[0m\n",
      "\u001b[0;32m/Users/mac28/development/amazon-scrapper/env/lib/python3.5/site-packages/sqlalchemy/engine/base.py\u001b[0m in \u001b[0;36mexecute\u001b[0;34m(self, object, *multiparams, **params)\u001b[0m\n",
      "\u001b[0;32m/Users/mac28/development/amazon-scrapper/env/lib/python3.5/site-packages/sqlalchemy/sql/elements.py\u001b[0m in \u001b[0;36m_execute_on_connection\u001b[0;34m(self, connection, multiparams, params)\u001b[0m\n",
      "\u001b[0;32m/Users/mac28/development/amazon-scrapper/env/lib/python3.5/site-packages/sqlalchemy/engine/base.py\u001b[0m in \u001b[0;36m_execute_clauseelement\u001b[0;34m(self, elem, multiparams, params)\u001b[0m\n",
      "\u001b[0;32m/Users/mac28/development/amazon-scrapper/env/lib/python3.5/site-packages/sqlalchemy/engine/base.py\u001b[0m in \u001b[0;36m_execute_context\u001b[0;34m(self, dialect, constructor, statement, parameters, *args)\u001b[0m\n",
      "\u001b[0;32m/Users/mac28/development/amazon-scrapper/env/lib/python3.5/site-packages/sqlalchemy/engine/base.py\u001b[0m in \u001b[0;36m_handle_dbapi_exception\u001b[0;34m(self, e, statement, parameters, cursor, context)\u001b[0m\n",
      "\u001b[0;32m/Users/mac28/development/amazon-scrapper/env/lib/python3.5/site-packages/sqlalchemy/util/compat.py\u001b[0m in \u001b[0;36mraise_from_cause\u001b[0;34m(exception, exc_info)\u001b[0m\n",
      "\u001b[0;32m/Users/mac28/development/amazon-scrapper/env/lib/python3.5/site-packages/sqlalchemy/util/compat.py\u001b[0m in \u001b[0;36mreraise\u001b[0;34m(tp, value, tb, cause)\u001b[0m\n",
      "\u001b[0;32m/Users/mac28/development/amazon-scrapper/env/lib/python3.5/site-packages/sqlalchemy/engine/base.py\u001b[0m in \u001b[0;36m_execute_context\u001b[0;34m(self, dialect, constructor, statement, parameters, *args)\u001b[0m\n",
      "\u001b[0;32m/Users/mac28/development/amazon-scrapper/env/lib/python3.5/site-packages/sqlalchemy/engine/default.py\u001b[0m in \u001b[0;36mdo_execute\u001b[0;34m(self, cursor, statement, parameters, context)\u001b[0m\n",
      "\u001b[0;31mIntegrityError\u001b[0m: (sqlite3.IntegrityError) UNIQUE constraint failed: reviews.review_id [SQL: 'INSERT INTO reviews (review_id, star_rating, review_title, review_date, text) VALUES (?, ?, ?, ?, ?)'] [parameters: ('R2YARFSOTSPD1W', 5, 'reading other reviews helped me pick the right size!1', 'July 22, 2015', \"Just got these shoes in the mail and was a bit nervous to see if I had ordered the right size given that most of the reviews stated that the shoe run ... (222 characters truncated) ... iewers' advice and drop down a size and I'm glad that I did. I hope this helps you choose the right size!\\nThey are super cute and I love the colors!\")]"
     ]
    }
   ],
   "source": [
    "review=driver.find_elements_by_xpath('*//i[@data-hook=\"review-star-rating\"]')[0]\n",
    "scrape_review(review, session)\n"
   ]
  },
  {
   "cell_type": "code",
   "execution_count": null,
   "metadata": {
    "collapsed": true
   },
   "outputs": [],
   "source": [
    "\n",
    "    try:\n",
    "        e.find_element_by_tag_name('a').click()\n",
    "    except NoSuchElementException:\n",
    "        cat = session.query(Category).filter_by(category_name=e.text).first()\n",
    "        cat.completed = True\n",
    "        session.commit()\n",
    "        driver.close()\n",
    "        driver.switch_to_window(driver.window_handles[1])\n",
    "        break"
   ]
  }
 ],
 "metadata": {
  "kernelspec": {
   "display_name": "Python 3",
   "language": "python",
   "name": "python3"
  },
  "language_info": {
   "codemirror_mode": {
    "name": "ipython",
    "version": 3
   },
   "file_extension": ".py",
   "mimetype": "text/x-python",
   "name": "python",
   "nbconvert_exporter": "python",
   "pygments_lexer": "ipython3",
   "version": "3.5.2"
  }
 },
 "nbformat": 4,
 "nbformat_minor": 2
}
