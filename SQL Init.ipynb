{
 "cells": [
  {
   "cell_type": "code",
   "execution_count": 1,
   "metadata": {
    "collapsed": true
   },
   "outputs": [],
   "source": [
    "import os\n",
    "import sys\n",
    "from sqlalchemy import Column, ForeignKey, Integer, String, Text, Boolean\n",
    "from sqlalchemy.ext.declarative import declarative_base\n",
    "from sqlalchemy.orm import relationship\n",
    "from sqlalchemy import create_engine\n",
    " \n",
    "Base = declarative_base()\n",
    " \n",
    "class Review(Base):\n",
    "    __tablename__ = 'reviews'\n",
    "    # Here we define columns for the table person\n",
    "    # Notice that each column is also a normal Python instance attribute.\n",
    "    review_id = Column(Text, primary_key=True)\n",
    "    star_rating = Column(Integer, nullable=False)\n",
    "    review_title = Column(Text, nullable=False)\n",
    "    review_date = Column(Text, nullable=False)\n",
    "    text = Column(Text, nullable=False)\n",
    "    product_ASIN = Column(Text, nullable=False)\n",
    "\n",
    "class Category(Base):\n",
    "    __tablename__ = 'categories'\n",
    "    # Here we define columns for the table person\n",
    "    # Notice that each column is also a normal Python instance attribute.\n",
    "    category_name = Column(Text, primary_key=True)\n",
    "    completed = Column(Boolean, nullable=False)\n",
    "    \n",
    "    \n",
    " \n",
    "# Create an engine that stores data in the local directory's\n",
    "# sqlalchemy_example.db file.\n",
    "engine = create_engine('sqlite:///reviews.db')\n",
    " \n",
    "# Create all tables in the engine. This is equivalent to \"Create Table\"\n",
    "# statements in raw SQL.\n",
    "Base.metadata.create_all(engine)"
   ]
  },
  {
   "cell_type": "code",
   "execution_count": null,
   "metadata": {
    "collapsed": true
   },
   "outputs": [],
   "source": []
  }
 ],
 "metadata": {
  "kernelspec": {
   "display_name": "Python 3",
   "language": "python",
   "name": "python3"
  },
  "language_info": {
   "codemirror_mode": {
    "name": "ipython",
    "version": 3
   },
   "file_extension": ".py",
   "mimetype": "text/x-python",
   "name": "python",
   "nbconvert_exporter": "python",
   "pygments_lexer": "ipython3",
   "version": "3.5.2"
  }
 },
 "nbformat": 4,
 "nbformat_minor": 2
}
