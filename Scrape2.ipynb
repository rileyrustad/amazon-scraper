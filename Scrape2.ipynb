{
 "cells": [
  {
   "cell_type": "code",
   "execution_count": 1,
   "metadata": {
    "collapsed": true
   },
   "outputs": [],
   "source": [
    "from selenium import webdriver\n",
    "from selenium.webdriver.common.keys import Keys\n",
    "from selenium.common.exceptions import WebDriverException, NoSuchElementException\n",
    "from bs4 import BeautifulSoup\n",
    "import requests\n",
    "import re\n",
    "from collections import defaultdict\n",
    "import time\n",
    "import argparse\n",
    "\n",
    "from sqlalchemy import create_engine\n",
    "from sqlalchemy.orm import sessionmaker\n",
    " \n",
    "from sql_init import Review, Base, Category, Product\n",
    "from scrape import check_category, check_product, scrape_category, scrape_product,scrape_reviews"
   ]
  },
  {
   "cell_type": "code",
   "execution_count": 2,
   "metadata": {
    "collapsed": true
   },
   "outputs": [],
   "source": [
    "def check_category(e, session):\n",
    "    categories = session.query(Category).filter_by(category_name=e.text).all()\n",
    "    if len(categories) == 0:\n",
    "        new_category = Category(category_name=e.text,completed=False)\n",
    "        session.add(new_category)\n",
    "        session.commit()\n",
    "        return False\n",
    "    elif len(categories) >= 1:\n",
    "        return categories[0].completed\n",
    "    \n",
    "def check_product(product, session):\n",
    "    product_id = re.search('/dp/[\\w]+/',product.find_element_by_xpath('..').get_attribute('href')).group(0)[4:-1]\n",
    "    products = session.query(Product).filter_by(product_ASIN=product_id).all()\n",
    "    if len(products) == 0:\n",
    "        new_product = Product(product_ASIN=product_id,completed=False)\n",
    "        session.add(new_product)\n",
    "        session.commit()\n",
    "        return False\n",
    "    elif len(products) >= 1:\n",
    "        return products[0].completed\n",
    "\n",
    "def scrape_review(review, session, product_id):\n",
    "    star_rating = review.find_element_by_class_name('a-icon-alt').get_attribute('innerHTML')[0]\n",
    "    e = review.find_element_by_xpath('../../../..')\n",
    "    if len(session.query(Review).filter_by(review_id=e.get_attribute('id')).all()) == 0:\n",
    "        new_review = Review(review_id=e.get_attribute('id'),\n",
    "                            star_rating=int(star_rating),\n",
    "                            review_title=e.find_element_by_class_name('review-title').text,\n",
    "                            review_date=e.find_element_by_class_name('review-date').text[3:],\n",
    "                            text=e.find_element_by_class_name('review-text').text,\n",
    "                            product_ASIN = product_ASIN)\n",
    "        session.add(new_review)\n",
    "        session.commit()\n",
    "        return\n",
    "    else:\n",
    "        pass"
   ]
  },
  {
   "cell_type": "code",
   "execution_count": 3,
   "metadata": {
    "collapsed": true
   },
   "outputs": [],
   "source": [
    "def scrape_reviews(link, driver, session, product_id):\n",
    "    link.send_keys(Keys.CONTROL + Keys.SHIFT + Keys.RETURN)\n",
    "    driver.switch_to_window(driver.window_handles[3])\n",
    "    while True:\n",
    "        time.sleep(1)\n",
    "        reviews = driver.find_elements_by_xpath('*//i[@data-hook=\"review-star-rating\"]')\n",
    "        try:\n",
    "            for review in reviews:\n",
    "                star_rating = review.find_element_by_class_name('a-icon-alt').get_attribute('innerHTML')[0]\n",
    "                e = review.find_element_by_xpath('../../../..')\n",
    "                if len(session.query(Review).filter_by(review_id=e.get_attribute('id')).all()) == 0:\n",
    "                    new_review = Review(review_id=e.get_attribute('id'),\n",
    "                                        star_rating=int(star_rating),\n",
    "                                        review_title=e.find_element_by_class_name('review-title').text,\n",
    "                                        review_date=e.find_element_by_class_name('review-date').text[3:],\n",
    "                                        text=e.find_element_by_class_name('review-text').text,\n",
    "                                        product_ASIN = product_id)\n",
    "                    session.add(new_review)\n",
    "                    session.commit()\n",
    "                else:\n",
    "                    pass\n",
    "            time.sleep(1)\n",
    "            driver.execute_script(\"window.scrollTo(0, 10000)\")\n",
    "            next_ = driver.find_element_by_class_name('a-last')\n",
    "            next_link = next_.find_element_by_tag_name('a')\n",
    "            next_link.click()\n",
    "        except NoSuchElementException:\n",
    "        #     cat = session.query(Category).filter_by(category_name=e.text).first()\n",
    "        #     cat.completed = True\n",
    "        #     session.commit()\n",
    "            driver.close()\n",
    "            driver.switch_to_window(driver.window_handles[2])\n",
    "            break\n",
    "\n",
    "\n",
    "                #TODO What if there are no reviews"
   ]
  },
  {
   "cell_type": "code",
   "execution_count": 4,
   "metadata": {
    "collapsed": true
   },
   "outputs": [],
   "source": [
    "def scrape_product(product, driver, session):\n",
    "    if not check_product(product, session):\n",
    "        product_ASID = re.search('/dp/[\\w]+/',product.find_element_by_xpath('..').get_attribute('href')).group(0)[4:-1]\n",
    "        product.find_element_by_xpath('..').send_keys(Keys.CONTROL + Keys.SHIFT + Keys.RETURN)\n",
    "        driver.switch_to_window(driver.window_handles[2])\n",
    "        \n",
    "        links = driver.find_elements_by_tag_name('a')\n",
    "        for link in links:\n",
    "            if re.search('See all [0-9,.]* customer reviews', link.text):\n",
    "                scrape_reviews(link, driver, session, product_ASID)\n",
    "                break\n",
    "\n",
    "        new_product = session.query(Product).filter_by(product_ASIN=product_ASID).first()\n",
    "        new_product.completed = True\n",
    "        session.commit()\n",
    "        driver.close()\n",
    "        driver.switch_to_window(driver.window_handles[1])\n",
    "        \n",
    "        "
   ]
  },
  {
   "cell_type": "code",
   "execution_count": 5,
   "metadata": {
    "collapsed": true
   },
   "outputs": [],
   "source": [
    "def scrape_category(category, driver, session):\n",
    "    category_text = category.text\n",
    "    \n",
    "    if not check_category(category, session):\n",
    "        print(category.find_element_by_xpath('..').tag_name)\n",
    "        category.send_keys(Keys.CONTROL + Keys.SHIFT + Keys.RETURN)\n",
    "        driver.switch_to_window(driver.window_handles[1])\n",
    "    while True:\n",
    "        try:\n",
    "            for i, product in enumerate(driver.find_elements_by_class_name(\"s-access-title\")):\n",
    "                driver.find_elements_by_class_name(\"s-access-title\")[i]\n",
    "                scrape_product(product, driver, session)\n",
    "            time.sleep(2) \n",
    "            driver.execute_script(\"window.scrollTo(0, 10000)\")\n",
    "            next_products = driver.find_element_by_id('pagnNextLink')\n",
    "            next_products.click()\n",
    "\n",
    "        except NoSuchElementException:\n",
    "            #     cat = session.query(Category).filter_by(category_name=e.text).first()\n",
    "            #     cat.completed = True\n",
    "            #     session.commit()\n",
    "            driver.close()\n",
    "            driver.switch_to_window(driver.window_handles[0])\n",
    "            break\n",
    "\n",
    "        cat = session.query(Category).filter_by(category_name=category_text).first()\n",
    "        cat.completed = True\n",
    "        session.commit()  "
   ]
  },
  {
   "cell_type": "code",
   "execution_count": 6,
   "metadata": {
    "collapsed": true
   },
   "outputs": [],
   "source": [
    "# Open sqlite connection/session\n",
    "engine = create_engine('sqlite:///reviews.db')\n",
    "Base.metadata.bind = engine\n",
    "DBSession = sessionmaker(bind=engine)\n",
    "session = DBSession()\n"
   ]
  },
  {
   "cell_type": "code",
   "execution_count": 51,
   "metadata": {
    "collapsed": true
   },
   "outputs": [],
   "source": [
    "\n",
    "# Open a new browser window\n",
    "driver = webdriver.Chrome(executable_path=\"./chromedriver\")\n",
    "driver.implicitly_wait(1.5)\n"
   ]
  },
  {
   "cell_type": "code",
   "execution_count": 52,
   "metadata": {
    "collapsed": true
   },
   "outputs": [],
   "source": [
    "\n",
    "# Prompt the user for \n",
    "# url = raw_input(\"What amazon reviews would you like to scrape?:\")\n",
    "# if url == '':\n",
    "url = 'https://www.amazon.com/s/gp/search/ref=sr_nr_p_89_0?fst=as%3Aoff&rh=i%3Aaps%2Ck%3Aadidas%2Cp_89%3Aadidas&keywords=adidas&ie=UTF8&qid=1511382355&rnid=2528832011'\n",
    "driver.get(url)\n",
    "\n",
    "main_window = driver.current_window_handle\n"
   ]
  },
  {
   "cell_type": "code",
   "execution_count": 53,
   "metadata": {
    "collapsed": true
   },
   "outputs": [],
   "source": [
    "# Expand all of the \"see more\" elements\n",
    "for i in driver.find_elements_by_class_name(\"a-expander-prompt\"):\n",
    "    i.find_element_by_xpath('..').click()\n",
    "\n"
   ]
  },
  {
   "cell_type": "code",
   "execution_count": 54,
   "metadata": {
    "collapsed": true
   },
   "outputs": [],
   "source": [
    "nav = driver.find_element_by_id(\"leftNavContainer\")"
   ]
  },
  {
   "cell_type": "code",
   "execution_count": 55,
   "metadata": {
    "collapsed": true
   },
   "outputs": [],
   "source": [
    "categories = nav.find_elements_by_class_name('a-spacing-top-mini')"
   ]
  },
  {
   "cell_type": "code",
   "execution_count": 56,
   "metadata": {
    "collapsed": true
   },
   "outputs": [],
   "source": [
    "category = categories[0]\n",
    "# for category in categories:"
   ]
  },
  {
   "cell_type": "code",
   "execution_count": null,
   "metadata": {
    "collapsed": true,
    "scrolled": true
   },
   "outputs": [],
   "source": [
    "scrape_category(category, driver, session)"
   ]
  },
  {
   "cell_type": "code",
   "execution_count": null,
   "metadata": {
    "collapsed": true
   },
   "outputs": [],
   "source": []
  },
  {
   "cell_type": "code",
   "execution_count": 45,
   "metadata": {
    "collapsed": true
   },
   "outputs": [],
   "source": [
    "if not check_category(category, session):\n",
    "# Open new window for category\n",
    "    category.find_element_by_xpath('..').send_keys(Keys.CONTROL + Keys.SHIFT + Keys.RETURN)"
   ]
  },
  {
   "cell_type": "code",
   "execution_count": 46,
   "metadata": {
    "collapsed": true
   },
   "outputs": [],
   "source": [
    "driver.switch_to_window(driver.window_handles[1])"
   ]
  },
  {
   "cell_type": "code",
   "execution_count": 47,
   "metadata": {
    "collapsed": true
   },
   "outputs": [],
   "source": [
    "product = driver.find_elements_by_class_name(\"s-access-title\")[0]\n",
    "# for product in driver.find_elements_by_class_name(\"s-access-title\"):"
   ]
  },
  {
   "cell_type": "code",
   "execution_count": null,
   "metadata": {
    "collapsed": true
   },
   "outputs": [],
   "source": [
    "product_ASIN = re.search('/dp/[\\w]+/',product.find_element_by_xpath('..').get_attribute('href')).group(0)[4:-1]"
   ]
  },
  {
   "cell_type": "code",
   "execution_count": null,
   "metadata": {
    "collapsed": true
   },
   "outputs": [],
   "source": [
    "if not check_product(product,session):\n",
    "    pass"
   ]
  },
  {
   "cell_type": "code",
   "execution_count": null,
   "metadata": {
    "collapsed": true
   },
   "outputs": [],
   "source": [
    "scrape_product(product, driver, session)"
   ]
  },
  {
   "cell_type": "code",
   "execution_count": null,
   "metadata": {
    "collapsed": true
   },
   "outputs": [],
   "source": []
  },
  {
   "cell_type": "code",
   "execution_count": 48,
   "metadata": {
    "collapsed": true
   },
   "outputs": [],
   "source": [
    "product.find_element_by_xpath('..').send_keys(Keys.CONTROL + Keys.SHIFT + Keys.RETURN)"
   ]
  },
  {
   "cell_type": "code",
   "execution_count": 49,
   "metadata": {
    "collapsed": true
   },
   "outputs": [],
   "source": [
    "driver.switch_to_window(driver.window_handles[2])"
   ]
  },
  {
   "cell_type": "code",
   "execution_count": null,
   "metadata": {
    "collapsed": true
   },
   "outputs": [],
   "source": [
    "links = driver.find_elements_by_tag_name('a')"
   ]
  },
  {
   "cell_type": "code",
   "execution_count": null,
   "metadata": {
    "collapsed": true
   },
   "outputs": [],
   "source": [
    "for link in links:\n",
    "    if re.search('See all [0-9,.]* customer reviews', link.text):\n",
    "        link.send_keys(Keys.CONTROL + Keys.SHIFT + Keys.RETURN)\n",
    "        driver.switch_to_window(driver.window_handles[3])\n",
    "        #TODO What if there are no reviews\n",
    "        break   "
   ]
  },
  {
   "cell_type": "code",
   "execution_count": null,
   "metadata": {
    "collapsed": true
   },
   "outputs": [],
   "source": [
    "for link in links:\n",
    "    if re.search('See all [0-9,.]* customer reviews', link.text):\n",
    "        scrape_reviews(link, driver, session)\n",
    "        break  \n"
   ]
  },
  {
   "cell_type": "code",
   "execution_count": null,
   "metadata": {
    "collapsed": true
   },
   "outputs": [],
   "source": [
    "for review in driver.find_elements_by_xpath('*//i[@data-hook=\"review-star-rating\"]'):\n",
    "    scrape_review(review, session)"
   ]
  },
  {
   "cell_type": "code",
   "execution_count": null,
   "metadata": {
    "collapsed": true
   },
   "outputs": [],
   "source": [
    "driver.find_elements_by_xpath('*//i[@data-hook=\"review-star-rating\"]')"
   ]
  },
  {
   "cell_type": "code",
   "execution_count": null,
   "metadata": {
    "collapsed": true
   },
   "outputs": [],
   "source": [
    "while True:\n",
    "    time.sleep(1)\n",
    "    reviews = driver.find_elements_by_xpath('*//i[@data-hook=\"review-star-rating\"]')\n",
    "    try:\n",
    "        for review in reviews:\n",
    "            star_rating = review.find_element_by_class_name('a-icon-alt').get_attribute('innerHTML')[0]\n",
    "            e = review.find_element_by_xpath('../../../..')\n",
    "            if len(session.query(Review).filter_by(review_id=e.id).all()) > 0:\n",
    "                new_review = Review(review_id=e.get_attribute('id'),\n",
    "                                    star_rating=int(star_rating),\n",
    "                                    review_title=e.find_element_by_class_name('review-title').text,\n",
    "                                    review_date=e.find_element_by_class_name('review-date').text[3:],\n",
    "                                    text=e.find_element_by_class_name('review-text').text)\n",
    "                session.add(new_review)\n",
    "                session.commit()\n",
    "            else:\n",
    "                pass\n",
    "        time.sleep(1)\n",
    "        driver.execute_script(\"window.scrollTo(0, 10000)\")\n",
    "        next_ = driver.find_element_by_class_name('a-last')\n",
    "        next_link = next_.find_element_by_tag_name('a')\n",
    "        next_link.click()\n",
    "    except NoSuchElementException:\n",
    "    #     cat = session.query(Category).filter_by(category_name=e.text).first()\n",
    "    #     cat.completed = True\n",
    "    #     session.commit()\n",
    "        driver.close()\n",
    "        driver.switch_to_window(driver.window_handles[2])\n",
    "        driver.close()\n",
    "        driver.switch_to_window(driver.window_handles[1])\n",
    "        break"
   ]
  },
  {
   "cell_type": "code",
   "execution_count": null,
   "metadata": {
    "collapsed": true
   },
   "outputs": [],
   "source": [
    "# driver.execute_script(\"window.scrollTo(0, 10000)\")\n",
    "next_products = driver.find_element_by_id('pagnNextString')\n",
    "# next_products.find_element_by_xpath('..').click()\n",
    "next_products.text"
   ]
  },
  {
   "cell_type": "code",
   "execution_count": null,
   "metadata": {
    "collapsed": true
   },
   "outputs": [],
   "source": [
    "driver.execute_script(\"window.scrollTo(0, 10000)\")\n",
    "next_products = driver.find_element_by_id('pagnNextLink')\n",
    "next_products.click()"
   ]
  },
  {
   "cell_type": "code",
   "execution_count": null,
   "metadata": {
    "collapsed": true,
    "scrolled": true
   },
   "outputs": [],
   "source": [
    "while True:\n",
    "    try:\n",
    "        time.sleep(2) \n",
    "        driver.execute_script(\"window.scrollTo(0, 10000)\")\n",
    "        next_products = driver.find_element_by_id('pagnNextLink')\n",
    "        next_products.click()\n",
    "\n",
    "    except NoSuchElementException:\n",
    "        #     cat = session.query(Category).filter_by(category_name=e.text).first()\n",
    "        #     cat.completed = True\n",
    "        #     session.commit()\n",
    "        driver.close()\n",
    "        driver.switch_to_window(driver.window_handles[0])\n",
    "        break"
   ]
  },
  {
   "cell_type": "code",
   "execution_count": null,
   "metadata": {
    "collapsed": true
   },
   "outputs": [],
   "source": [
    "driver.find_element_by_id('pagnNextString').find_element_by_xpath('..').click()"
   ]
  },
  {
   "cell_type": "code",
   "execution_count": null,
   "metadata": {
    "collapsed": true
   },
   "outputs": [],
   "source": [
    "# try:\n",
    "# time.sleep(1)\n",
    "e = driver.find_element_by_class_name('a-last')\n",
    "f = e.find_elements_by_tag_name('a')\n",
    "# except NoSuchElementException:\n",
    "#     cat = session.query(Category).filter_by(category_name=e.text).first()\n",
    "#     cat.completed = True\n",
    "#     session.commit()\n",
    "#     driver.close()\n",
    "#     driver.switch_to_window(driver.window_handles[1])\n",
    "#     break"
   ]
  },
  {
   "cell_type": "code",
   "execution_count": null,
   "metadata": {
    "collapsed": true
   },
   "outputs": [],
   "source": [
    "f"
   ]
  },
  {
   "cell_type": "code",
   "execution_count": null,
   "metadata": {
    "collapsed": true
   },
   "outputs": [],
   "source": [
    "# Iterate through the categories\n",
    "categories = []\n",
    "for category in driver.find_elements_by_tag_name('h4')#.find_elements_by_class_name(\"a-text-bold\"):\n",
    "    # Check if Category has been scraped\n",
    "#     if category.text == \"Get It by Tomorrow\":\n",
    "#         break\n",
    "    print(category.text)\n",
    "#     # If not complete -> scrape\n",
    "#     if not check_category(category, session):\n",
    "#         # Open new window for category\n",
    "#         category.send_keys(Keys.CONTROL + Keys.SHIFT + Keys.RETURN)\n",
    "#         # Switch to new window \n",
    "#         driver.switch_to_window(driver.window_handles[1])\n",
    "#         for product in driver.find_elements_by_class_name(\"s-access-title\"):\n",
    "#             # time.sleep(1)\n",
    "#             product.click()\n",
    "#             # driver.switch_to_window(driver.window_handles[2])\n",
    "#             a_s = driver.find_elements_by_tag_name('a')\n",
    "#             for e in a_s:\n",
    "#                 time.sleep(1)\n",
    "#                 if re.search('See all [0-9,.]* customer reviews', e.text):\n",
    "#                     e.send_keys(Keys.CONTROL + Keys.SHIFT + Keys.RETURN)\n",
    "#                     driver.switch_to_window(driver.window_handles[2])\n",
    "#                     break\n",
    "#             while True:\n",
    "#                 time.sleep(1)\n",
    "#                 for review in driver.find_elements_by_xpath('*//i[@data-hook=\"review-star-rating\"]'):\n",
    "#                     scrape_review(review, session)\n",
    "\n",
    "#                 try:\n",
    "#                     time.sleep(1)\n",
    "#                     e = driver.find_element_by_class_name('a-last')\n",
    "#                     e.find_element_by_tag_name('a').click()\n",
    "#                 except NoSuchElementException:\n",
    "#                     cat = session.query(Category).filter_by(category_name=e.text).first()\n",
    "#                     cat.completed = True\n",
    "#                     session.commit()\n",
    "#                     driver.close()\n",
    "#                     driver.switch_to_window(driver.window_handles[1])\n",
    "#                     break\n",
    "#             driver.execute_script(\"window.history.go(-1)\")\n",
    "\n"
   ]
  },
  {
   "cell_type": "code",
   "execution_count": null,
   "metadata": {
    "collapsed": true
   },
   "outputs": [],
   "source": [
    "review = driver.find_elements_by_xpath('*//i[@data-hook=\"review-star-rating\"]')[0]\n",
    "star_rating = review.find_element_by_class_name('a-icon-alt').get_attribute('innerHTML')[0]\n",
    "# e = review.find_element_by_xpath('../../../..')\n",
    "# if len(session.query(Review).filter_by(review_id=e.id).all()) > 0:\n",
    "#     new_review = Review(review_id=e.get_attribute('id'),\n",
    "#                         star_rating=int(star_rating),\n",
    "#                         review_title=e.find_element_by_class_name('review-title').text,\n",
    "#                         review_date=e.find_element_by_class_name('review-date').text[3:],\n",
    "#                         text=e.find_element_by_class_name('review-text').text,\n",
    "#                         product_ASIN = product_id)\n",
    "#     session.add(new_review)\n",
    "#     session.commit()"
   ]
  },
  {
   "cell_type": "code",
   "execution_count": null,
   "metadata": {
    "collapsed": true
   },
   "outputs": [],
   "source": [
    "e = review.find_element_by_xpath('../../../..')"
   ]
  },
  {
   "cell_type": "code",
   "execution_count": null,
   "metadata": {
    "collapsed": true
   },
   "outputs": [],
   "source": [
    "session.rollback()"
   ]
  },
  {
   "cell_type": "code",
   "execution_count": null,
   "metadata": {
    "collapsed": true
   },
   "outputs": [],
   "source": [
    "if len(session.query(Review).filter_by(review_id=e.get_attribute('id')).all()) == 0:\n",
    "    new_review = Review(review_id=e.get_attribute('id'),\n",
    "                        star_rating=int(star_rating),\n",
    "                        review_title=e.find_element_by_class_name('review-title').text,\n",
    "                        review_date=e.find_element_by_class_name('review-date').text[3:],\n",
    "                        text=e.find_element_by_class_name('review-text').text,\n",
    "                        product_ASIN = product_ASIN)\n",
    "    session.add(new_review)\n",
    "    session.commit()\n",
    "    print('blah')"
   ]
  },
  {
   "cell_type": "code",
   "execution_count": null,
   "metadata": {
    "collapsed": true
   },
   "outputs": [],
   "source": [
    "len(session.query(Review).filter_by(review_id=e.get_attribute('id')).all())"
   ]
  },
  {
   "cell_type": "code",
   "execution_count": 72,
   "metadata": {},
   "outputs": [
    {
     "data": {
      "text/plain": [
       "392"
      ]
     },
     "execution_count": 72,
     "metadata": {},
     "output_type": "execute_result"
    }
   ],
   "source": [
    "len(session.query(Review).all())"
   ]
  },
  {
   "cell_type": "code",
   "execution_count": 20,
   "metadata": {},
   "outputs": [
    {
     "ename": "IndexError",
     "evalue": "list index out of range",
     "output_type": "error",
     "traceback": [
      "\u001b[0;31m---------------------------------------------------------------------------\u001b[0m",
      "\u001b[0;31mIndexError\u001b[0m                                Traceback (most recent call last)",
      "\u001b[0;32m<ipython-input-20-5d79819b2ed3>\u001b[0m in \u001b[0;36m<module>\u001b[0;34m()\u001b[0m\n\u001b[1;32m     25\u001b[0m \u001b[0;32mfor\u001b[0m \u001b[0mi\u001b[0m\u001b[0;34m,\u001b[0m \u001b[0mcategory\u001b[0m \u001b[0;32min\u001b[0m \u001b[0menumerate\u001b[0m\u001b[0;34m(\u001b[0m\u001b[0mdriver\u001b[0m\u001b[0;34m.\u001b[0m\u001b[0mfind_elements_by_class_name\u001b[0m\u001b[0;34m(\u001b[0m\u001b[0;34m\"s-ref-text-link\"\u001b[0m\u001b[0;34m)\u001b[0m\u001b[0;34m)\u001b[0m\u001b[0;34m:\u001b[0m\u001b[0;34m\u001b[0m\u001b[0m\n\u001b[1;32m     26\u001b[0m     \u001b[0mcategory_\u001b[0m \u001b[0;34m=\u001b[0m \u001b[0mdriver\u001b[0m\u001b[0;34m.\u001b[0m\u001b[0mfind_elements_by_class_name\u001b[0m\u001b[0;34m(\u001b[0m\u001b[0;34m\"s-ref-text-link\"\u001b[0m\u001b[0;34m)\u001b[0m\u001b[0;34m[\u001b[0m\u001b[0mi\u001b[0m\u001b[0;34m]\u001b[0m\u001b[0;34m\u001b[0m\u001b[0m\n\u001b[0;32m---> 27\u001b[0;31m     \u001b[0mscrape_category\u001b[0m\u001b[0;34m(\u001b[0m\u001b[0mcategory_\u001b[0m\u001b[0;34m,\u001b[0m \u001b[0mdriver\u001b[0m\u001b[0;34m,\u001b[0m \u001b[0msession\u001b[0m\u001b[0;34m)\u001b[0m\u001b[0;34m\u001b[0m\u001b[0m\n\u001b[0m",
      "\u001b[0;32m/Users/mac28/development/amazon-scrapper/scrape.py\u001b[0m in \u001b[0;36mscrape_category\u001b[0;34m(category, driver, session)\u001b[0m\n\u001b[1;32m     98\u001b[0m             \u001b[0;32mfor\u001b[0m \u001b[0mi\u001b[0m\u001b[0;34m,\u001b[0m \u001b[0mproduct\u001b[0m \u001b[0;32min\u001b[0m \u001b[0menumerate\u001b[0m\u001b[0;34m(\u001b[0m\u001b[0mdriver\u001b[0m\u001b[0;34m.\u001b[0m\u001b[0mfind_elements_by_class_name\u001b[0m\u001b[0;34m(\u001b[0m\u001b[0;34m\"s-access-title\"\u001b[0m\u001b[0;34m)\u001b[0m\u001b[0;34m)\u001b[0m\u001b[0;34m:\u001b[0m\u001b[0;34m\u001b[0m\u001b[0m\n\u001b[1;32m     99\u001b[0m                 \u001b[0mdriver\u001b[0m\u001b[0;34m.\u001b[0m\u001b[0mfind_elements_by_class_name\u001b[0m\u001b[0;34m(\u001b[0m\u001b[0;34m\"s-access-title\"\u001b[0m\u001b[0;34m)\u001b[0m\u001b[0;34m[\u001b[0m\u001b[0mi\u001b[0m\u001b[0;34m]\u001b[0m\u001b[0;34m\u001b[0m\u001b[0m\n\u001b[0;32m--> 100\u001b[0;31m                 \u001b[0mscrape_product\u001b[0m\u001b[0;34m(\u001b[0m\u001b[0mproduct\u001b[0m\u001b[0;34m,\u001b[0m \u001b[0mdriver\u001b[0m\u001b[0;34m,\u001b[0m \u001b[0msession\u001b[0m\u001b[0;34m)\u001b[0m\u001b[0;34m\u001b[0m\u001b[0m\n\u001b[0m\u001b[1;32m    101\u001b[0m             \u001b[0mtime\u001b[0m\u001b[0;34m.\u001b[0m\u001b[0msleep\u001b[0m\u001b[0;34m(\u001b[0m\u001b[0;36m2\u001b[0m\u001b[0;34m)\u001b[0m\u001b[0;34m\u001b[0m\u001b[0m\n\u001b[1;32m    102\u001b[0m             \u001b[0mdriver\u001b[0m\u001b[0;34m.\u001b[0m\u001b[0mexecute_script\u001b[0m\u001b[0;34m(\u001b[0m\u001b[0;34m\"window.scrollTo(0, 10000)\"\u001b[0m\u001b[0;34m)\u001b[0m\u001b[0;34m\u001b[0m\u001b[0m\n",
      "\u001b[0;32m/Users/mac28/development/amazon-scrapper/scrape.py\u001b[0m in \u001b[0;36mscrape_product\u001b[0;34m(product, driver, session)\u001b[0m\n\u001b[1;32m     73\u001b[0m         \u001b[0mproduct_ASID\u001b[0m \u001b[0;34m=\u001b[0m \u001b[0mre\u001b[0m\u001b[0;34m.\u001b[0m\u001b[0msearch\u001b[0m\u001b[0;34m(\u001b[0m\u001b[0;34m'/dp/[\\w]+/'\u001b[0m\u001b[0;34m,\u001b[0m \u001b[0mproduct\u001b[0m\u001b[0;34m.\u001b[0m\u001b[0mfind_element_by_xpath\u001b[0m\u001b[0;34m(\u001b[0m\u001b[0;34m'..'\u001b[0m\u001b[0;34m)\u001b[0m\u001b[0;34m.\u001b[0m\u001b[0mget_attribute\u001b[0m\u001b[0;34m(\u001b[0m\u001b[0;34m'href'\u001b[0m\u001b[0;34m)\u001b[0m\u001b[0;34m)\u001b[0m\u001b[0;34m.\u001b[0m\u001b[0mgroup\u001b[0m\u001b[0;34m(\u001b[0m\u001b[0;36m0\u001b[0m\u001b[0;34m)\u001b[0m\u001b[0;34m[\u001b[0m\u001b[0;36m4\u001b[0m\u001b[0;34m:\u001b[0m\u001b[0;34m-\u001b[0m\u001b[0;36m1\u001b[0m\u001b[0;34m]\u001b[0m\u001b[0;34m\u001b[0m\u001b[0m\n\u001b[1;32m     74\u001b[0m         \u001b[0mproduct\u001b[0m\u001b[0;34m.\u001b[0m\u001b[0mfind_element_by_xpath\u001b[0m\u001b[0;34m(\u001b[0m\u001b[0;34m'..'\u001b[0m\u001b[0;34m)\u001b[0m\u001b[0;34m.\u001b[0m\u001b[0msend_keys\u001b[0m\u001b[0;34m(\u001b[0m\u001b[0mKeys\u001b[0m\u001b[0;34m.\u001b[0m\u001b[0mCONTROL\u001b[0m \u001b[0;34m+\u001b[0m \u001b[0mKeys\u001b[0m\u001b[0;34m.\u001b[0m\u001b[0mSHIFT\u001b[0m \u001b[0;34m+\u001b[0m \u001b[0mKeys\u001b[0m\u001b[0;34m.\u001b[0m\u001b[0mRETURN\u001b[0m\u001b[0;34m)\u001b[0m\u001b[0;34m\u001b[0m\u001b[0m\n\u001b[0;32m---> 75\u001b[0;31m         \u001b[0mdriver\u001b[0m\u001b[0;34m.\u001b[0m\u001b[0mswitch_to_window\u001b[0m\u001b[0;34m(\u001b[0m\u001b[0mdriver\u001b[0m\u001b[0;34m.\u001b[0m\u001b[0mwindow_handles\u001b[0m\u001b[0;34m[\u001b[0m\u001b[0;36m2\u001b[0m\u001b[0;34m]\u001b[0m\u001b[0;34m)\u001b[0m\u001b[0;34m\u001b[0m\u001b[0m\n\u001b[0m\u001b[1;32m     76\u001b[0m \u001b[0;34m\u001b[0m\u001b[0m\n\u001b[1;32m     77\u001b[0m         \u001b[0mlinks\u001b[0m \u001b[0;34m=\u001b[0m \u001b[0mdriver\u001b[0m\u001b[0;34m.\u001b[0m\u001b[0mfind_elements_by_tag_name\u001b[0m\u001b[0;34m(\u001b[0m\u001b[0;34m'a'\u001b[0m\u001b[0;34m)\u001b[0m\u001b[0;34m\u001b[0m\u001b[0m\n",
      "\u001b[0;31mIndexError\u001b[0m: list index out of range"
     ]
    }
   ],
   "source": [
    "from selenium import webdriver\n",
    "from selenium.webdriver.common.keys import Keys\n",
    "from selenium.common.exceptions import WebDriverException, NoSuchElementException\n",
    "from bs4 import BeautifulSoup\n",
    "import requests\n",
    "import re\n",
    "from collections import defaultdict\n",
    "import time\n",
    "import argparse\n",
    "\n",
    "from sqlalchemy import create_engine\n",
    "from sqlalchemy.orm import sessionmaker\n",
    " \n",
    "from sql_init import Review, Base, Category, Product\n",
    "from scrape import check_category, check_product, scrape_category, scrape_product,scrape_reviews\n",
    "# Open sqlite connection/session\n",
    "engine = create_engine('sqlite:///reviews.db')\n",
    "Base.metadata.bind = engine\n",
    "DBSession = sessionmaker(bind=engine)\n",
    "session = DBSession()\n",
    "\n",
    "# Open a new browser window\n",
    "driver = webdriver.Chrome(executable_path=\"./chromedriver\")\n",
    "driver.implicitly_wait(1.5)\n",
    "\n",
    "# Prompt the user for\n",
    "# url = raw_input(\"What amazon reviews would you like to scrape?:\")\n",
    "# if url == '':\n",
    "url = 'https://www.amazon.com/s/gp/search/ref=sr_nr_p_89_0?fst=as%3Aoff&rh=i%3Aaps%2Ck%3Aadidas%2Cp_89%3Aadidas&keywords=adidas&ie=UTF8&qid=1511382355&rnid=2528832011'\n",
    "driver.get(url)\n",
    "\n",
    "main_window = driver.current_window_handle\n",
    "\n",
    "# Expand all of the \"see more\" elements\n",
    "for i in driver.find_elements_by_class_name(\"a-expander-prompt\"):\n",
    "    i.find_element_by_xpath('..').click()\n",
    "\n",
    "# Iterate through the categories\n",
    "categories = []\n",
    "for i, category in enumerate(driver.find_elements_by_class_name(\"s-ref-text-link\")):\n",
    "    category_ = driver.find_elements_by_class_name(\"s-ref-text-link\")[i]\n",
    "    scrape_category(category_, driver, session)"
   ]
  },
  {
   "cell_type": "code",
   "execution_count": null,
   "metadata": {
    "collapsed": true
   },
   "outputs": [],
   "source": [
    "for i, category in enumerate(driver.find_elements_by_class_name(\"s-ref-text-link\")):\n",
    "    category_ = driver.find_elements_by_class_name(\"s-ref-text-link\")[i]\n",
    "    print(category_.text)"
   ]
  },
  {
   "cell_type": "code",
   "execution_count": 33,
   "metadata": {},
   "outputs": [
    {
     "data": {
      "text/plain": [
       "True"
      ]
     },
     "execution_count": 33,
     "metadata": {},
     "output_type": "execute_result"
    }
   ],
   "source": [
    "check_category(category, session)"
   ]
  },
  {
   "cell_type": "code",
   "execution_count": 57,
   "metadata": {
    "collapsed": true
   },
   "outputs": [],
   "source": [
    "b = session.query(Category).filter_by(category_name=\"Boys' Fashion\").first()"
   ]
  },
  {
   "cell_type": "code",
   "execution_count": 58,
   "metadata": {
    "collapsed": true
   },
   "outputs": [],
   "source": [
    "b.completed = False"
   ]
  },
  {
   "cell_type": "code",
   "execution_count": 50,
   "metadata": {
    "collapsed": true
   },
   "outputs": [],
   "source": [
    "driver.execute_script(\"window.scrollTo(0, 10000)\")\n",
    "next_products = driver.find_element_by_id('pagnNextLink')\n",
    "next_products.click()"
   ]
  },
  {
   "cell_type": "code",
   "execution_count": 59,
   "metadata": {
    "collapsed": true
   },
   "outputs": [],
   "source": [
    "session.commit()"
   ]
  },
  {
   "cell_type": "code",
   "execution_count": 64,
   "metadata": {},
   "outputs": [
    {
     "data": {
      "text/plain": [
       "['Musical Instruments',\n",
       " 'Pet Supplies',\n",
       " 'Garden & Outdoor',\n",
       " 'CDs & Vinyl',\n",
       " 'Video Games',\n",
       " 'Arts, Crafts & Sewing']"
      ]
     },
     "execution_count": 64,
     "metadata": {},
     "output_type": "execute_result"
    }
   ],
   "source": [
    "[x.category_name for x in session.query(Category).all()]"
   ]
  },
  {
   "cell_type": "code",
   "execution_count": null,
   "metadata": {
    "collapsed": true
   },
   "outputs": [],
   "source": [
    "Review."
   ]
  },
  {
   "cell_type": "code",
   "execution_count": 32,
   "metadata": {},
   "outputs": [
    {
     "data": {
      "text/plain": [
       "1498"
      ]
     },
     "execution_count": 32,
     "metadata": {},
     "output_type": "execute_result"
    }
   ],
   "source": [
    "engine = create_engine('sqlite:///reviews.db')\n",
    "Base.metadata.bind = engine\n",
    "DBSession = sessionmaker(bind=engine)\n",
    "session = DBSession()\n",
    "len(session.query(Product).all())"
   ]
  },
  {
   "cell_type": "code",
   "execution_count": 31,
   "metadata": {},
   "outputs": [
    {
     "data": {
      "text/plain": [
       "62994"
      ]
     },
     "execution_count": 31,
     "metadata": {},
     "output_type": "execute_result"
    }
   ],
   "source": [
    "len(set([x.review_id for x in session.query(Review).all()]))"
   ]
  },
  {
   "cell_type": "code",
   "execution_count": 85,
   "metadata": {},
   "outputs": [
    {
     "data": {
      "text/plain": [
       "['5', '5', '5', '5', '5']"
      ]
     },
     "execution_count": 85,
     "metadata": {},
     "output_type": "execute_result"
    }
   ],
   "source": [
    "[x.star_rating for x in session.query(Review).all()[-5:]]"
   ]
  },
  {
   "cell_type": "code",
   "execution_count": 33,
   "metadata": {},
   "outputs": [
    {
     "data": {
      "text/plain": [
       "1498"
      ]
     },
     "execution_count": 33,
     "metadata": {},
     "output_type": "execute_result"
    }
   ],
   "source": [
    "len(session.query(Product).all())"
   ]
  },
  {
   "cell_type": "code",
   "execution_count": 124,
   "metadata": {
    "collapsed": true
   },
   "outputs": [],
   "source": [
    "# [x.category_name for x in session.query(Category).all()]\n",
    "for x in session.query(Category).all():\n",
    "    x.completed = False \n",
    "session.commit()"
   ]
  },
  {
   "cell_type": "code",
   "execution_count": 125,
   "metadata": {},
   "outputs": [
    {
     "data": {
      "text/plain": [
       "[False,\n",
       " False,\n",
       " False,\n",
       " False,\n",
       " False,\n",
       " True,\n",
       " False,\n",
       " False,\n",
       " False,\n",
       " False,\n",
       " False,\n",
       " False,\n",
       " False,\n",
       " False,\n",
       " False,\n",
       " False,\n",
       " False,\n",
       " False,\n",
       " False,\n",
       " False,\n",
       " False,\n",
       " False,\n",
       " False,\n",
       " False,\n",
       " False,\n",
       " False,\n",
       " False,\n",
       " False]"
      ]
     },
     "execution_count": 125,
     "metadata": {},
     "output_type": "execute_result"
    }
   ],
   "source": [
    "[x.completed for x in session.query(Category).all()]"
   ]
  },
  {
   "cell_type": "code",
   "execution_count": 14,
   "metadata": {},
   "outputs": [],
   "source": [
    "p = session.query(Product).all()"
   ]
  },
  {
   "cell_type": "code",
   "execution_count": 20,
   "metadata": {},
   "outputs": [
    {
     "data": {
      "text/plain": [
       "'B071LGH5BJ'"
      ]
     },
     "execution_count": 20,
     "metadata": {},
     "output_type": "execute_result"
    }
   ],
   "source": [
    "p[1].product_ASIN"
   ]
  },
  {
   "cell_type": "code",
   "execution_count": null,
   "metadata": {
    "collapsed": true
   },
   "outputs": [],
   "source": []
  }
 ],
 "metadata": {
  "kernelspec": {
   "display_name": "Python 3",
   "language": "python",
   "name": "python3"
  },
  "language_info": {
   "codemirror_mode": {
    "name": "ipython",
    "version": 3
   },
   "file_extension": ".py",
   "mimetype": "text/x-python",
   "name": "python",
   "nbconvert_exporter": "python",
   "pygments_lexer": "ipython3",
   "version": "3.5.2"
  }
 },
 "nbformat": 4,
 "nbformat_minor": 2
}
