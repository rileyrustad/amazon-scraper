{
 "cells": [
  {
   "cell_type": "code",
   "execution_count": 1,
   "metadata": {},
   "outputs": [],
   "source": [
    "from sql_init import Review, Base\n",
    "from sqlalchemy import create_engine\n",
    "engine = create_engine('sqlite:///reviews.db')\n",
    "Base.metadata.bind = engine\n",
    "from sqlalchemy.orm import sessionmaker\n",
    "DBSession = sessionmaker()\n",
    "DBSession.bind = engine\n",
    "session = DBSession()\n",
    "# Make a query to find all Persons in the database\n",
    "s = session.query(Review)\n",
    "\n",
    "# Return the first Person from all Persons in the database\n",
    "# review = session.query(Review).first()\n",
    "# print(review.text)\n",
    "\n",
    "# for i in session.query(Review).all():\n",
    "#     print(i.star_rating)\n",
    "#     print (i.text)\n",
    "\n",
    "\n",
    "# >>>\n",
    "# # Find all Address whose person field is pointing to the person object\n",
    "# session.query(Address).filter(Address.person == person).all()\n",
    "# [<sqlalchemy_declarative.Address object at 0x2ee3cd0>]\n",
    "# >>>\n",
    "# # Retrieve one Address whose person field is point to the person object\n",
    "# session.query(Address).filter(Address.person == person).one()\n",
    "# <sqlalchemy_declarative.Address object at 0x2ee3cd0>\n",
    "# address = session.query(Address).filter(Address.person == person).one()\n",
    "# address.post_code\n",
    "# u'00000'"
   ]
  },
  {
   "cell_type": "code",
   "execution_count": 8,
   "metadata": {},
   "outputs": [],
   "source": [
    "for i in s.filter_by(review_id='R83ZH2185V9AS'):\n",
    "    print('blah')"
   ]
  },
  {
   "cell_type": "code",
   "execution_count": null,
   "metadata": {
    "collapsed": true
   },
   "outputs": [],
   "source": []
  }
 ],
 "metadata": {
  "kernelspec": {
   "display_name": "Python 3",
   "language": "python",
   "name": "python3"
  },
  "language_info": {
   "codemirror_mode": {
    "name": "ipython",
    "version": 3
   },
   "file_extension": ".py",
   "mimetype": "text/x-python",
   "name": "python",
   "nbconvert_exporter": "python",
   "pygments_lexer": "ipython3",
   "version": "3.5.2"
  }
 },
 "nbformat": 4,
 "nbformat_minor": 2
}
