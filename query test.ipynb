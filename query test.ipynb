{
 "cells": [
  {
   "cell_type": "code",
   "execution_count": 7,
   "metadata": {},
   "outputs": [
    {
     "name": "stdout",
     "output_type": "stream",
     "text": [
      "Just got these shoes in the mail and was a bit nervous to see if I had ordered the right size given that most of the reviews stated that the shoe runs large. I typically wear an 8.5 or a 9 so I ordered an 8 and it fits perfectly. I certainly wouldn't have wanted them any smaller. I own a pair of Adidas indoor soccer shoes that are a size 9 but I decided to heed the reviewers' advice and drop down a size and I'm glad that I did. I hope this helps you choose the right size!\n",
      "They are super cute and I love the colors!\n",
      "Just got these shoes in the mail and was a bit nervous to see if I had ordered the right size given that most of the reviews stated that the shoe runs large. I typically wear an 8.5 or a 9 so I ordered an 8 and it fits perfectly. I certainly wouldn't have wanted them any smaller. I own a pair of Adidas indoor soccer shoes that are a size 9 but I decided to heed the reviewers' advice and drop down a size and I'm glad that I did. I hope this helps you choose the right size!\n",
      "They are super cute and I love the colors!\n",
      "5\n",
      "Love them!! I've always loved the classic shell toes! I will say reading the reviews did help when choosing a size. I'm normally a size 7, so I ordered a 6 since all the reviews said \"run large\" and they fit perfectly!!\n",
      "5\n",
      "I LOVE these! I'm so happy I read the reviews and sized down. I'm a size 7us and ordered a size 6. They fit great! I'm glad I went a whole size down instead of half a size. They are super cute!\n",
      "The package was kind of damaged and taped but the product was fine!\n",
      "5\n",
      "These shoes are amazing! I was so anxious that they wouldn't be good but they arrived 6 days earlier than expected. I got them in white and I'm lowkey scared of going outside to get them dirty, so I might even get them in black...\n",
      "The sizing was perfect too, I recommend looking at the sizing chart and of course to go based on your current shoes' size. They feel kind of loose around the heel/ankles, but maybe that's just me being used to high-top shoes where the shoe laces can easily tighten this problem of the shoe slipping a little.\n",
      "Overall though, these shoes look just like the picture if not better irl.\n",
      "5\n",
      "Somewhat large maybe because of my narrow feet. i usually wear 7.5 when it comes to sneakers but i orderered 6.5 in this one and its an amazing fit.\n",
      "5\n",
      "Read the reviews so knew they ran large. My daughter normally wears a size 9 but ordered a size 8 1/2. They fit perfectly. Super comfortable and she hasn't stopped wearing them since they came. Definite a statement shoe!\n",
      "5\n",
      "Usually wear an 8. I got 7.5 and they fit perfect. Very comfortable\n",
      "5\n",
      "I usually wear a size 9 but ordered a 8.5 based on other reviews stating that the shoe runs big. I had to pass onto my daughter who also wears a size 9 but her feet is narrower than mine. Lucky her!\n",
      "4\n",
      "Way too big even after I followed their fit test. Returned them.\n",
      "1\n",
      "I love these shoes! Super cute and super comfy. A little spendy, but they tend to go up and down. I kept an eye on the price and nabbed them when the price was pretty low.\n",
      "5\n"
     ]
    }
   ],
   "source": [
    "from sql_init import Review, Base\n",
    "from sqlalchemy import create_engine\n",
    "engine = create_engine('sqlite:///reviews.db')\n",
    "Base.metadata.bind = engine\n",
    "from sqlalchemy.orm import sessionmaker\n",
    "DBSession = sessionmaker()\n",
    "DBSession.bind = engine\n",
    "session = DBSession()\n",
    "# Make a query to find all Persons in the database\n",
    "session.query(Review).all()\n",
    "\n",
    "# Return the first Person from all Persons in the database\n",
    "review = session.query(Review).first()\n",
    "print(review.text)\n",
    "\n",
    "for i in session.query(Review).all():\n",
    "    print(i.star_rating)\n",
    "    print (i.text)\n",
    "\n",
    "\n",
    "# >>>\n",
    "# # Find all Address whose person field is pointing to the person object\n",
    "# session.query(Address).filter(Address.person == person).all()\n",
    "# [<sqlalchemy_declarative.Address object at 0x2ee3cd0>]\n",
    "# >>>\n",
    "# # Retrieve one Address whose person field is point to the person object\n",
    "# session.query(Address).filter(Address.person == person).one()\n",
    "# <sqlalchemy_declarative.Address object at 0x2ee3cd0>\n",
    "# address = session.query(Address).filter(Address.person == person).one()\n",
    "# address.post_code\n",
    "# u'00000'"
   ]
  },
  {
   "cell_type": "code",
   "execution_count": null,
   "metadata": {
    "collapsed": true
   },
   "outputs": [],
   "source": []
  }
 ],
 "metadata": {
  "kernelspec": {
   "display_name": "Python 3",
   "language": "python",
   "name": "python3"
  },
  "language_info": {
   "codemirror_mode": {
    "name": "ipython",
    "version": 3
   },
   "file_extension": ".py",
   "mimetype": "text/x-python",
   "name": "python",
   "nbconvert_exporter": "python",
   "pygments_lexer": "ipython3",
   "version": "3.5.2"
  }
 },
 "nbformat": 4,
 "nbformat_minor": 2
}
